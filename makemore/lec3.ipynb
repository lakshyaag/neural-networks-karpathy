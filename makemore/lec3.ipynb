{
 "cells": [
  {
   "cell_type": "code",
   "execution_count": 1,
   "metadata": {},
   "outputs": [],
   "source": [
    "import torch\n",
    "import torch.nn.functional as F\n",
    "import matplotlib.pyplot as plt\n",
    "%matplotlib inline"
   ]
  },
  {
   "cell_type": "code",
   "execution_count": 2,
   "metadata": {},
   "outputs": [
    {
     "name": "stdout",
     "output_type": "stream",
     "text": [
      "['emma', 'olivia', 'ava', 'isabella', 'sophia', 'charlotte', 'mia', 'amelia', 'harper', 'evelyn']\n"
     ]
    }
   ],
   "source": [
    "words = open(\"names.txt\").read().splitlines()\n",
    "print(words[:10])"
   ]
  },
  {
   "cell_type": "code",
   "execution_count": 8,
   "metadata": {},
   "outputs": [
    {
     "data": {
      "text/plain": [
       "{1: 'a',\n",
       " 2: 'b',\n",
       " 3: 'c',\n",
       " 4: 'd',\n",
       " 5: 'e',\n",
       " 6: 'f',\n",
       " 7: 'g',\n",
       " 8: 'h',\n",
       " 9: 'i',\n",
       " 10: 'j',\n",
       " 11: 'k',\n",
       " 12: 'l',\n",
       " 13: 'm',\n",
       " 14: 'n',\n",
       " 15: 'o',\n",
       " 16: 'p',\n",
       " 17: 'q',\n",
       " 18: 'r',\n",
       " 19: 's',\n",
       " 20: 't',\n",
       " 21: 'u',\n",
       " 22: 'v',\n",
       " 23: 'w',\n",
       " 24: 'x',\n",
       " 25: 'y',\n",
       " 26: 'z',\n",
       " 0: '.'}"
      ]
     },
     "execution_count": 8,
     "metadata": {},
     "output_type": "execute_result"
    }
   ],
   "source": [
    "# Build vocabulary and mappings\n",
    "chars = sorted(list(set(\"\".join(words))))\n",
    "s_to_i = {s: i + 1 for i, s in enumerate(chars)}\n",
    "s_to_i[\".\"] = 0\n",
    "\n",
    "i_to_s = {i: s for s, i in s_to_i.items()}\n",
    "i_to_s\n"
   ]
  },
  {
   "cell_type": "markdown",
   "metadata": {},
   "source": [
    "### Building the dataset\n"
   ]
  },
  {
   "cell_type": "code",
   "execution_count": 71,
   "metadata": {},
   "outputs": [
    {
     "name": "stdout",
     "output_type": "stream",
     "text": [
      "emma\n",
      "... ---> e\n",
      "..e ---> m\n",
      ".em ---> m\n",
      "emm ---> a\n",
      "mma ---> .\n",
      "==========\n",
      "olivia\n",
      "... ---> o\n",
      "..o ---> l\n",
      ".ol ---> i\n",
      "oli ---> v\n",
      "liv ---> i\n",
      "ivi ---> a\n",
      "via ---> .\n",
      "==========\n",
      "ava\n",
      "... ---> a\n",
      "..a ---> v\n",
      ".av ---> a\n",
      "ava ---> .\n",
      "==========\n",
      "isabella\n",
      "... ---> i\n",
      "..i ---> s\n",
      ".is ---> a\n",
      "isa ---> b\n",
      "sab ---> e\n",
      "abe ---> l\n",
      "bel ---> l\n",
      "ell ---> a\n",
      "lla ---> .\n",
      "==========\n",
      "sophia\n",
      "... ---> s\n",
      "..s ---> o\n",
      ".so ---> p\n",
      "sop ---> h\n",
      "oph ---> i\n",
      "phi ---> a\n",
      "hia ---> .\n",
      "==========\n"
     ]
    }
   ],
   "source": [
    "CONTEXT_LENGTH = 3  # Block size: number of previous characters to consider when predicting the next character\n",
    "X, Y = [], []\n",
    "\n",
    "for word in words[:5]:\n",
    "    print(word)\n",
    "    context = [0] * CONTEXT_LENGTH\n",
    "\n",
    "    for char in word + \".\":\n",
    "        ix = s_to_i[char]\n",
    "        X.append(context)\n",
    "        Y.append(ix)\n",
    "\n",
    "        print(\"\".join([i_to_s[i] for i in context]), \"--->\", i_to_s[ix])\n",
    "        context = context[1:] + [ix]\n",
    "\n",
    "    print(\"=\" * 10)\n",
    "\n",
    "X = torch.tensor(X)\n",
    "Y = torch.tensor(Y)"
   ]
  },
  {
   "cell_type": "code",
   "execution_count": 73,
   "metadata": {},
   "outputs": [
    {
     "data": {
      "text/plain": [
       "(torch.Size([32, 3]), torch.Size([32]), torch.int64, torch.int64)"
      ]
     },
     "execution_count": 73,
     "metadata": {},
     "output_type": "execute_result"
    }
   ],
   "source": [
    "X.shape, Y.shape, X.dtype, Y.dtype\n"
   ]
  },
  {
   "cell_type": "code",
   "execution_count": 72,
   "metadata": {},
   "outputs": [
    {
     "data": {
      "text/plain": [
       "(tensor([[ 0,  0,  0],\n",
       "         [ 0,  0,  5],\n",
       "         [ 0,  5, 13],\n",
       "         [ 5, 13, 13],\n",
       "         [13, 13,  1],\n",
       "         [ 0,  0,  0],\n",
       "         [ 0,  0, 15],\n",
       "         [ 0, 15, 12],\n",
       "         [15, 12,  9],\n",
       "         [12,  9, 22]]),\n",
       " tensor([ 5, 13, 13,  1,  0, 15, 12,  9, 22,  9]))"
      ]
     },
     "execution_count": 72,
     "metadata": {},
     "output_type": "execute_result"
    }
   ],
   "source": [
    "X[:10], Y[:10]\n"
   ]
  },
  {
   "cell_type": "markdown",
   "metadata": {},
   "source": [
    "#### Creating the embeddings matrix\n"
   ]
  },
  {
   "cell_type": "code",
   "execution_count": 74,
   "metadata": {},
   "outputs": [
    {
     "data": {
      "text/plain": [
       "tensor([[-0.0420,  0.5207],\n",
       "        [ 0.3652,  0.0816],\n",
       "        [-0.1530,  0.3086],\n",
       "        [ 0.3903, -0.2723],\n",
       "        [-0.4222,  0.3062],\n",
       "        [-0.8584, -0.2627],\n",
       "        [ 0.7122,  0.4641],\n",
       "        [-0.8772, -0.1745],\n",
       "        [ 0.4187,  1.9763],\n",
       "        [-1.3171,  0.0475],\n",
       "        [-1.0068,  0.4175],\n",
       "        [ 0.6012,  0.1996],\n",
       "        [-0.7944,  0.6257],\n",
       "        [-1.7710, -0.2458],\n",
       "        [-0.8173, -0.3824],\n",
       "        [ 0.5338,  0.8790],\n",
       "        [ 1.0532,  0.1871],\n",
       "        [-0.1977,  0.8671],\n",
       "        [ 0.2085,  0.3644],\n",
       "        [-2.5613, -0.5468],\n",
       "        [ 0.6147,  0.3374],\n",
       "        [-0.4286, -0.4828],\n",
       "        [-1.7391,  1.9912],\n",
       "        [ 0.2624,  0.5821],\n",
       "        [ 0.5976,  1.2198],\n",
       "        [-0.3465, -1.5540],\n",
       "        [-0.8701,  1.2346]])"
      ]
     },
     "execution_count": 74,
     "metadata": {},
     "output_type": "execute_result"
    }
   ],
   "source": [
    "embed_size = 2\n",
    "# 2-dimension embeddings\n",
    "C = torch.randn(size=(len(chars) + 1, embed_size))\n",
    "\n",
    "C\n"
   ]
  },
  {
   "cell_type": "code",
   "execution_count": 75,
   "metadata": {},
   "outputs": [
    {
     "data": {
      "text/plain": [
       "tensor([-0.8584, -0.2627])"
      ]
     },
     "execution_count": 75,
     "metadata": {},
     "output_type": "execute_result"
    }
   ],
   "source": [
    "# Using one-hot encoding to get the embeddings\n",
    "F.one_hot(torch.tensor(5), num_classes=27).float() @ C\n",
    "\n",
    "# Directly indexing the embeddings\n",
    "C[5]\n",
    "\n",
    "# Both approaches are equivalent, but the latter is faster since it doesn't require a matrix multiplication.\n"
   ]
  },
  {
   "cell_type": "code",
   "execution_count": 76,
   "metadata": {},
   "outputs": [
    {
     "data": {
      "text/plain": [
       "torch.Size([32, 3, 2])"
      ]
     },
     "execution_count": 76,
     "metadata": {},
     "output_type": "execute_result"
    }
   ],
   "source": [
    "emb = C[X]\n",
    "emb.shape\n"
   ]
  },
  {
   "cell_type": "markdown",
   "metadata": {},
   "source": [
    "### Building the model\n"
   ]
  },
  {
   "cell_type": "code",
   "execution_count": 108,
   "metadata": {},
   "outputs": [],
   "source": [
    "num_neurons = 100\n"
   ]
  },
  {
   "cell_type": "code",
   "execution_count": 109,
   "metadata": {},
   "outputs": [
    {
     "data": {
      "text/plain": [
       "(torch.Size([6, 100]), torch.Size([100]))"
      ]
     },
     "execution_count": 109,
     "metadata": {},
     "output_type": "execute_result"
    }
   ],
   "source": [
    "W1 = torch.randn(size=(embed_size * CONTEXT_LENGTH, num_neurons))\n",
    "b1 = torch.randn(size=(num_neurons,))\n",
    "W1.shape, b1.shape"
   ]
  },
  {
   "cell_type": "code",
   "execution_count": 110,
   "metadata": {},
   "outputs": [],
   "source": [
    "# Flatten the embeddings and multiply by the weight matrix\n",
    "h = torch.tanh((emb.view(-1, embed_size * CONTEXT_LENGTH) @ W1) + b1)\n"
   ]
  },
  {
   "cell_type": "code",
   "execution_count": 114,
   "metadata": {},
   "outputs": [
    {
     "data": {
      "text/plain": [
       "torch.Size([32, 100])"
      ]
     },
     "execution_count": 114,
     "metadata": {},
     "output_type": "execute_result"
    }
   ],
   "source": [
    "h.shape\n"
   ]
  },
  {
   "cell_type": "code",
   "execution_count": 111,
   "metadata": {},
   "outputs": [
    {
     "data": {
      "text/plain": [
       "(torch.Size([100, 27]), torch.Size([27]))"
      ]
     },
     "execution_count": 111,
     "metadata": {},
     "output_type": "execute_result"
    }
   ],
   "source": [
    "W2 = torch.randn(size=(num_neurons, len(chars) + 1))\n",
    "b2 = torch.randn(size=(len(chars) + 1,))\n",
    "W2.shape, b2.shape\n"
   ]
  },
  {
   "cell_type": "code",
   "execution_count": 116,
   "metadata": {},
   "outputs": [
    {
     "data": {
      "text/plain": [
       "torch.Size([32, 27])"
      ]
     },
     "execution_count": 116,
     "metadata": {},
     "output_type": "execute_result"
    }
   ],
   "source": [
    "logits = (h @ W2) + b2\n",
    "counts = logits.exp()\n",
    "probs = counts / counts.sum(dim=1, keepdim=True)\n",
    "\n",
    "probs.shape\n"
   ]
  },
  {
   "cell_type": "code",
   "execution_count": 120,
   "metadata": {},
   "outputs": [
    {
     "data": {
      "text/plain": [
       "tensor([5.4996e-07, 1.1747e-05, 2.6083e-05, 9.0551e-13, 1.5539e-06, 1.6197e-11,\n",
       "        1.8982e-09, 1.2461e-15, 3.3361e-05, 5.3247e-21, 3.0923e-06, 1.7050e-02,\n",
       "        6.4599e-04, 7.6131e-07, 3.5826e-09, 1.8902e-11, 1.0886e-11, 9.9986e-01,\n",
       "        7.8533e-17, 2.5269e-06, 9.8285e-01, 4.3992e-08, 6.0773e-08, 1.4893e-05,\n",
       "        4.8923e-06, 5.3397e-03, 4.3359e-14, 1.7462e-14, 1.0847e-10, 4.7468e-13,\n",
       "        8.7592e-03, 8.0191e-10])"
      ]
     },
     "execution_count": 120,
     "metadata": {},
     "output_type": "execute_result"
    }
   ],
   "source": [
    "# Predicted probabilities for the correct next character\n",
    "probs[torch.arange(len(Y)), Y]\n"
   ]
  },
  {
   "cell_type": "code",
   "execution_count": 121,
   "metadata": {},
   "outputs": [],
   "source": [
    "# Computing the loss function\n",
    "loss = probs[torch.arange(len(Y)), Y].log().neg().mean()\n"
   ]
  },
  {
   "cell_type": "markdown",
   "metadata": {},
   "source": [
    "### Optimizing the MLP\n"
   ]
  },
  {
   "cell_type": "code",
   "execution_count": 195,
   "metadata": {},
   "outputs": [],
   "source": [
    "CONTEXT_LENGTH = 3  # Block size: number of previous characters to consider when predicting the next character\n",
    "X, Y = [], []\n",
    "\n",
    "for word in words:\n",
    "    # print(word)\n",
    "    context = [0] * CONTEXT_LENGTH\n",
    "\n",
    "    for char in word + \".\":\n",
    "        ix = s_to_i[char]\n",
    "        X.append(context)\n",
    "        Y.append(ix)\n",
    "\n",
    "        # print(\"\".join([i_to_s[i] for i in context]), \"--->\", i_to_s[ix])\n",
    "        context = context[1:] + [ix]\n",
    "\n",
    "    # print(\"=\" * 10)\n",
    "\n",
    "X = torch.tensor(X)\n",
    "Y = torch.tensor(Y)"
   ]
  },
  {
   "cell_type": "code",
   "execution_count": 196,
   "metadata": {},
   "outputs": [
    {
     "data": {
      "text/plain": [
       "(torch.Size([228146, 3]), torch.Size([228146]))"
      ]
     },
     "execution_count": 196,
     "metadata": {},
     "output_type": "execute_result"
    }
   ],
   "source": [
    "X.shape, Y.shape"
   ]
  },
  {
   "cell_type": "code",
   "execution_count": 237,
   "metadata": {},
   "outputs": [
    {
     "name": "stdout",
     "output_type": "stream",
     "text": [
      "Number of parameters: 3481\n"
     ]
    }
   ],
   "source": [
    "num_neurons = 100\n",
    "embed_size = 2\n",
    "\n",
    "g = torch.Generator().manual_seed(2147483647)\n",
    "\n",
    "C = torch.randn(size=(len(chars) + 1, embed_size), generator=g, requires_grad=True)\n",
    "W1 = torch.randn(\n",
    "    size=(embed_size * CONTEXT_LENGTH, num_neurons), generator=g, requires_grad=True\n",
    ")\n",
    "b1 = torch.randn(size=(num_neurons,), generator=g, requires_grad=True)\n",
    "W2 = torch.randn(size=(num_neurons, len(chars) + 1), generator=g, requires_grad=True)\n",
    "b2 = torch.randn(size=(len(chars) + 1,), generator=g, requires_grad=True)\n",
    "\n",
    "params = [C, W1, b1, W2, b2]\n",
    "\n",
    "print(f\"Number of parameters: {sum(p.nelement() for p in params)}\")"
   ]
  },
  {
   "cell_type": "markdown",
   "metadata": {},
   "source": [
    "#### Mini-batch gradient descent\n",
    "Instead of running fewer epochs on the whole dataset, we can run more epochs on smaller batches of the dataset. This is called mini-batch gradient descent. It is usually the preferred method for training neural networks, as it is less computationally expensive and more stable than batch gradient descent."
   ]
  },
  {
   "cell_type": "markdown",
   "metadata": {},
   "source": [
    "##### Choosing the learning rate"
   ]
  },
  {
   "cell_type": "code",
   "execution_count": 226,
   "metadata": {},
   "outputs": [
    {
     "name": "stdout",
     "output_type": "stream",
     "text": [
      "Loss after epochs=1000 loss=7.5137\n"
     ]
    }
   ],
   "source": [
    "lre = torch.linspace(-3, 0, 1000)\n",
    "lrs = 10**lre\n",
    "\n",
    "lri = []\n",
    "losses = []\n",
    "\n",
    "epochs = 1000\n",
    "minibatch_size = 32\n",
    "\n",
    "for epoch in range(epochs):\n",
    "    # Construct a minibatch\n",
    "    batch_ix = torch.randint(low=0, high=X.shape[0], size=(minibatch_size,))\n",
    "\n",
    "    # Forward pass\n",
    "    emb = C[X[batch_ix]]\n",
    "    h = torch.tanh((emb.view(-1, embed_size * CONTEXT_LENGTH) @ W1) + b1)\n",
    "    logits = (h @ W2) + b2\n",
    "\n",
    "    # Computing the loss function using cross-entropy\n",
    "    loss = F.cross_entropy(logits, Y[batch_ix])\n",
    "\n",
    "    # if epoch % 10 == 0:\n",
    "    #     print(f\"{epoch=}, {loss=:.4f}\")\n",
    "\n",
    "    # Backward pass\n",
    "    for p in params:\n",
    "        p.grad = None\n",
    "\n",
    "    loss.backward()\n",
    "\n",
    "    # Update the parameters\n",
    "    lr = lrs[epoch]\n",
    "    for p in params:\n",
    "        p.data += -lr * p.grad\n",
    "\n",
    "    lri.append(lre[epoch])\n",
    "    losses.append(loss.item())\n",
    "\n",
    "# Loss after training\n",
    "print(f\"Loss after {epochs=} {loss=:.4f}\")"
   ]
  },
  {
   "cell_type": "code",
   "execution_count": 227,
   "metadata": {},
   "outputs": [
    {
     "data": {
      "text/plain": [
       "[<matplotlib.lines.Line2D at 0x25138ba10c0>]"
      ]
     },
     "execution_count": 227,
     "metadata": {},
     "output_type": "execute_result"
    },
    {
     "data": {
      "image/png": "[encoded data removed]",
      "text/plain": [
       "<Figure size 640x480 with 1 Axes>"
      ]
     },
     "metadata": {},
     "output_type": "display_data"
    }
   ],
   "source": [
    "plt.plot(lri, losses)\n",
    "\n",
    "# The optimal learnring rate seems to be around 1e-1"
   ]
  },
  {
   "cell_type": "markdown",
   "metadata": {},
   "source": [
    "##### Optimizing with learning rate = `1e-1`"
   ]
  },
  {
   "cell_type": "code",
   "execution_count": 245,
   "metadata": {},
   "outputs": [
    {
     "name": "stdout",
     "output_type": "stream",
     "text": [
      "Loss after epochs=10000 loss=2.6333\n"
     ]
    }
   ],
   "source": [
    "learning_rate = 1e-2\n",
    "epochs = 10000\n",
    "minibatch_size = 32\n",
    "\n",
    "for epoch in range(epochs):\n",
    "    # Construct a minibatch\n",
    "    batch_ix = torch.randint(low=0, high=X.shape[0], size=(minibatch_size,))\n",
    "\n",
    "    # Forward pass\n",
    "    emb = C[X[batch_ix]]\n",
    "    h = torch.tanh((emb.view(-1, embed_size * CONTEXT_LENGTH) @ W1) + b1)\n",
    "    logits = (h @ W2) + b2\n",
    "\n",
    "    # Computing the loss function using cross-entropy\n",
    "    loss = F.cross_entropy(logits, Y[batch_ix])\n",
    "\n",
    "    # if epoch % 10 == 0:\n",
    "    #     print(f\"{epoch=}, {loss=:.4f}\")\n",
    "\n",
    "    # Backward pass\n",
    "    for p in params:\n",
    "        p.grad = None\n",
    "\n",
    "    loss.backward()\n",
    "\n",
    "    # Update the parameters\n",
    "    for p in params:\n",
    "        p.data += -learning_rate * p.grad\n",
    "\n",
    "# Loss after training\n",
    "print(f\"Loss after {epochs=} {loss=:.4f}\")"
   ]
  },
  {
   "cell_type": "code",
   "execution_count": 246,
   "metadata": {},
   "outputs": [
    {
     "name": "stdout",
     "output_type": "stream",
     "text": [
      "Loss on the entire data: loss=tensor(2.3604, grad_fn=<NllLossBackward0>)\n"
     ]
    }
   ],
   "source": [
    "# Computing the loss on the entire data\n",
    "emb = C[X]\n",
    "h = torch.tanh((emb.view(-1, embed_size * CONTEXT_LENGTH) @ W1) + b1)\n",
    "logits = (h @ W2) + b2\n",
    "\n",
    "loss = F.cross_entropy(logits, Y)\n",
    "print(f\"Loss on the entire data: {loss=}\")"
   ]
  },
  {
   "cell_type": "markdown",
   "metadata": {},
   "source": [
    "### Train-val-test split\n",
    "To correctly evaluate model performance, it is typically split into three parts:\n",
    "1. Training set: the data used to train the model (weights and biases)\n",
    "2. Validation set: the data used to train the hyperparameters of the model (learning rate, number of neurons, etc.)\n",
    "3. Test set: the data used to evaluate the model performance\n",
    "\n"
   ]
  },
  {
   "cell_type": "code",
   "execution_count": 251,
   "metadata": {},
   "outputs": [],
   "source": [
    "def build_dataset(words, label):\n",
    "    CONTEXT_LENGTH = 3  # Block size: number of previous characters to consider when predicting the next character\n",
    "    X, Y = [], []\n",
    "\n",
    "    for word in words:\n",
    "        # print(word)\n",
    "        context = [0] * CONTEXT_LENGTH\n",
    "\n",
    "        for char in word + \".\":\n",
    "            ix = s_to_i[char]\n",
    "            X.append(context)\n",
    "            Y.append(ix)\n",
    "\n",
    "            # print(\"\".join([i_to_s[i] for i in context]), \"--->\", i_to_s[ix])\n",
    "            context = context[1:] + [ix]\n",
    "\n",
    "        # print(\"=\" * 10)\n",
    "\n",
    "    X = torch.tensor(X)\n",
    "    Y = torch.tensor(Y)\n",
    "    print(label, X.shape, Y.shape)\n",
    "    return X, Y"
   ]
  },
  {
   "cell_type": "code",
   "execution_count": 252,
   "metadata": {},
   "outputs": [
    {
     "name": "stdout",
     "output_type": "stream",
     "text": [
      "train torch.Size([182580, 3]) torch.Size([182580])\n",
      "validation torch.Size([22767, 3]) torch.Size([22767])\n",
      "test torch.Size([22799, 3]) torch.Size([22799])\n"
     ]
    }
   ],
   "source": [
    "import random\n",
    "\n",
    "random.seed(42)\n",
    "\n",
    "# Shuffle the words in the dataset\n",
    "random.shuffle(words)\n",
    "\n",
    "# Split the dataset into train, validation and test sets\n",
    "train_index = int(0.8 * len(words))\n",
    "val_index = int(0.9 * len(words))\n",
    "\n",
    "X_train, Y_train = build_dataset(words[:train_index], \"train\")\n",
    "X_val, Y_val = build_dataset(words[train_index:val_index], \"validation\")\n",
    "X_test, Y_test = build_dataset(words[val_index:], \"test\")"
   ]
  },
  {
   "cell_type": "code",
   "execution_count": 256,
   "metadata": {},
   "outputs": [
    {
     "data": {
      "text/plain": [
       "(torch.Size([182580, 3]), torch.Size([182580]))"
      ]
     },
     "execution_count": 256,
     "metadata": {},
     "output_type": "execute_result"
    }
   ],
   "source": [
    "X_train.shape, Y_train.shape"
   ]
  },
  {
   "cell_type": "code",
   "execution_count": 290,
   "metadata": {},
   "outputs": [
    {
     "name": "stdout",
     "output_type": "stream",
     "text": [
      "Number of parameters: 10281\n"
     ]
    }
   ],
   "source": [
    "num_neurons = 300\n",
    "embed_size = 2\n",
    "\n",
    "g = torch.Generator().manual_seed(2147483647)\n",
    "\n",
    "C = torch.randn(size=(len(chars) + 1, embed_size), generator=g, requires_grad=True)\n",
    "W1 = torch.randn(\n",
    "    size=(embed_size * CONTEXT_LENGTH, num_neurons), generator=g, requires_grad=True\n",
    ")\n",
    "b1 = torch.randn(size=(num_neurons,), generator=g, requires_grad=True)\n",
    "W2 = torch.randn(size=(num_neurons, len(chars) + 1), generator=g, requires_grad=True)\n",
    "b2 = torch.randn(size=(len(chars) + 1,), generator=g, requires_grad=True)\n",
    "\n",
    "params = [C, W1, b1, W2, b2]\n",
    "\n",
    "print(f\"Number of parameters: {sum(p.nelement() for p in params)}\")"
   ]
  },
  {
   "cell_type": "code",
   "execution_count": 322,
   "metadata": {},
   "outputs": [
    {
     "name": "stdout",
     "output_type": "stream",
     "text": [
      "Loss after epochs=30000 loss=2.2062\n"
     ]
    }
   ],
   "source": [
    "learning_rate = 1e-2\n",
    "epochs = 30000\n",
    "minibatch_size = 32\n",
    "\n",
    "losses = []\n",
    "steps = []\n",
    "\n",
    "for epoch in range(epochs):\n",
    "    # Construct a minibatch\n",
    "    batch_ix = torch.randint(low=0, high=X_train.shape[0], size=(minibatch_size,))\n",
    "\n",
    "    # Forward pass\n",
    "    emb = C[X_train[batch_ix]]\n",
    "    h = torch.tanh((emb.view(-1, embed_size * CONTEXT_LENGTH) @ W1) + b1)\n",
    "    logits = (h @ W2) + b2\n",
    "\n",
    "    # Computing the loss function using cross-entropy\n",
    "    loss = F.cross_entropy(logits, Y_train[batch_ix])\n",
    "\n",
    "    # if epoch % 10 == 0:\n",
    "    #     print(f\"{epoch=}, {loss=:.4f}\")\n",
    "\n",
    "    # Backward pass\n",
    "    for p in params:\n",
    "        p.grad = None\n",
    "\n",
    "    loss.backward()\n",
    "\n",
    "    # Update the parameters\n",
    "    for p in params:\n",
    "        p.data += -learning_rate * p.grad\n",
    "\n",
    "    steps.append(epoch)\n",
    "    losses.append(loss.item())\n",
    "\n",
    "# Loss after training\n",
    "print(f\"Loss after {epochs=} {loss=:.4f}\")"
   ]
  },
  {
   "cell_type": "code",
   "execution_count": 292,
   "metadata": {},
   "outputs": [
    {
     "data": {
      "text/plain": [
       "[<matplotlib.lines.Line2D at 0x2513c06d630>]"
      ]
     },
     "execution_count": 292,
     "metadata": {},
     "output_type": "execute_result"
    },
    {
     "data": {
      "image/png": "[encoded data removed]",
      "text/plain": [
       "<Figure size 640x480 with 1 Axes>"
      ]
     },
     "metadata": {},
     "output_type": "display_data"
    }
   ],
   "source": [
    "plt.plot(steps, losses)"
   ]
  },
  {
   "cell_type": "code",
   "execution_count": 323,
   "metadata": {},
   "outputs": [
    {
     "name": "stdout",
     "output_type": "stream",
     "text": [
      "Loss on the training data: loss=tensor(2.2585, grad_fn=<NllLossBackward0>)\n"
     ]
    }
   ],
   "source": [
    "# Computing the loss on the training data\n",
    "emb = C[X_train]\n",
    "h = torch.tanh((emb.view(-1, embed_size * CONTEXT_LENGTH) @ W1) + b1)\n",
    "logits = (h @ W2) + b2\n",
    "\n",
    "loss = F.cross_entropy(logits, Y_train)\n",
    "print(f\"Loss on the training data: {loss=}\")"
   ]
  },
  {
   "cell_type": "code",
   "execution_count": 324,
   "metadata": {},
   "outputs": [
    {
     "name": "stdout",
     "output_type": "stream",
     "text": [
      "Loss on the validation data: loss=tensor(2.2676, grad_fn=<NllLossBackward0>)\n"
     ]
    }
   ],
   "source": [
    "# Computing the loss on the validation data\n",
    "emb = C[X_val]\n",
    "h = torch.tanh((emb.view(-1, embed_size * CONTEXT_LENGTH) @ W1) + b1)\n",
    "logits = (h @ W2) + b2\n",
    "\n",
    "loss = F.cross_entropy(logits, Y_val)\n",
    "print(f\"Loss on the validation data: {loss=}\")"
   ]
  },
  {
   "cell_type": "markdown",
   "metadata": {},
   "source": [
    "#### Visualizing the embeddings vector"
   ]
  },
  {
   "cell_type": "code",
   "execution_count": 326,
   "metadata": {},
   "outputs": [
    {
     "data": {
      "image/png": "[encoded data removed]",
      "text/plain": [
       "<Figure size 640x480 with 1 Axes>"
      ]
     },
     "metadata": {},
     "output_type": "display_data"
    }
   ],
   "source": [
    "plt.scatter(C[:, 0].data, C[:, 1].data, s=200)\n",
    "for i in range(len(chars) + 1):\n",
    "    plt.text(\n",
    "        C[i, 0].item(),\n",
    "        C[i, 1].item(),\n",
    "        i_to_s[i],\n",
    "        ha=\"center\",\n",
    "        va=\"center\",\n",
    "        color=\"white\",\n",
    "    )\n",
    "\n",
    "plt.grid(\"minor\")"
   ]
  },
  {
   "cell_type": "markdown",
   "metadata": {},
   "source": [
    "#### Scaling up the embeddings vector"
   ]
  },
  {
   "cell_type": "code",
   "execution_count": 346,
   "metadata": {},
   "outputs": [
    {
     "name": "stdout",
     "output_type": "stream",
     "text": [
      "Number of parameters: 11897\n"
     ]
    }
   ],
   "source": [
    "num_neurons = 200\n",
    "embed_size = 10\n",
    "\n",
    "g = torch.Generator().manual_seed(2147483647)\n",
    "\n",
    "C = torch.randn(size=(len(chars) + 1, embed_size), generator=g, requires_grad=True)\n",
    "W1 = torch.randn(\n",
    "    size=(embed_size * CONTEXT_LENGTH, num_neurons), generator=g, requires_grad=True\n",
    ")\n",
    "b1 = torch.randn(size=(num_neurons,), generator=g, requires_grad=True)\n",
    "W2 = torch.randn(size=(num_neurons, len(chars) + 1), generator=g, requires_grad=True)\n",
    "b2 = torch.randn(size=(len(chars) + 1,), generator=g, requires_grad=True)\n",
    "\n",
    "params = [C, W1, b1, W2, b2]\n",
    "\n",
    "print(f\"Number of parameters: {sum(p.nelement() for p in params)}\")"
   ]
  },
  {
   "cell_type": "code",
   "execution_count": 347,
   "metadata": {},
   "outputs": [],
   "source": [
    "losses = []\n",
    "steps = []"
   ]
  },
  {
   "cell_type": "code",
   "execution_count": 348,
   "metadata": {},
   "outputs": [],
   "source": [
    "epochs = 200000\n",
    "minibatch_size = 32\n",
    "\n",
    "for epoch in range(epochs):\n",
    "    # Construct a minibatch\n",
    "    batch_ix = torch.randint(low=0, high=X_train.shape[0], size=(minibatch_size,))\n",
    "\n",
    "    # Forward pass\n",
    "    emb = C[X_train[batch_ix]]\n",
    "    h = torch.tanh((emb.view(-1, embed_size * CONTEXT_LENGTH) @ W1) + b1)\n",
    "    logits = (h @ W2) + b2\n",
    "\n",
    "    # Computing the loss function using cross-entropy\n",
    "    loss = F.cross_entropy(logits, Y_train[batch_ix])\n",
    "\n",
    "    # if epoch % 10 == 0:\n",
    "    #     print(f\"{epoch=}, {loss=:.4f}\")\n",
    "\n",
    "    # Backward pass\n",
    "    for p in params:\n",
    "        p.grad = None\n",
    "\n",
    "    loss.backward()\n",
    "\n",
    "    learning_rate = 1e-1 if epoch < 100000 else 1e-2\n",
    "\n",
    "    # Update the parameters\n",
    "    for p in params:\n",
    "        p.data += -learning_rate * p.grad\n",
    "\n",
    "    steps.append(epoch)\n",
    "    losses.append(loss.log10().item())"
   ]
  },
  {
   "cell_type": "code",
   "execution_count": 349,
   "metadata": {},
   "outputs": [
    {
     "data": {
      "text/plain": [
       "[<matplotlib.lines.Line2D at 0x251454fafb0>]"
      ]
     },
     "execution_count": 349,
     "metadata": {},
     "output_type": "execute_result"
    },
    {
     "data": {
      "image/png": "[encoded data removed]",
      "text/plain": [
       "<Figure size 640x480 with 1 Axes>"
      ]
     },
     "metadata": {},
     "output_type": "display_data"
    }
   ],
   "source": [
    "plt.plot(steps, losses)"
   ]
  },
  {
   "cell_type": "code",
   "execution_count": 350,
   "metadata": {},
   "outputs": [
    {
     "name": "stdout",
     "output_type": "stream",
     "text": [
      "Loss on the training data: loss=tensor(2.1179, grad_fn=<NllLossBackward0>)\n"
     ]
    }
   ],
   "source": [
    "# Computing the loss on the training data\n",
    "emb = C[X_train]\n",
    "h = torch.tanh((emb.view(-1, embed_size * CONTEXT_LENGTH) @ W1) + b1)\n",
    "logits = (h @ W2) + b2\n",
    "\n",
    "loss = F.cross_entropy(logits, Y_train)\n",
    "print(f\"Loss on the training data: {loss=}\")"
   ]
  },
  {
   "cell_type": "code",
   "execution_count": 351,
   "metadata": {},
   "outputs": [
    {
     "name": "stdout",
     "output_type": "stream",
     "text": [
      "Loss on the validation data: loss=tensor(2.1592, grad_fn=<NllLossBackward0>)\n"
     ]
    }
   ],
   "source": [
    "# Computing the loss on the validation data\n",
    "emb = C[X_val]\n",
    "h = torch.tanh((emb.view(-1, embed_size * CONTEXT_LENGTH) @ W1) + b1)\n",
    "logits = (h @ W2) + b2\n",
    "\n",
    "loss = F.cross_entropy(logits, Y_val)\n",
    "print(f\"Loss on the validation data: {loss=}\")"
   ]
  },
  {
   "cell_type": "code",
   "execution_count": 352,
   "metadata": {},
   "outputs": [
    {
     "name": "stdout",
     "output_type": "stream",
     "text": [
      "Loss on the test data: loss=tensor(2.1649, grad_fn=<NllLossBackward0>)\n"
     ]
    }
   ],
   "source": [
    "# Computing the loss on the test data\n",
    "emb = C[X_test]\n",
    "h = torch.tanh((emb.view(-1, embed_size * CONTEXT_LENGTH) @ W1) + b1)\n",
    "logits = (h @ W2) + b2\n",
    "\n",
    "loss = F.cross_entropy(logits, Y_test)\n",
    "print(f\"Loss on the test data: {loss=}\")"
   ]
  },
  {
   "cell_type": "markdown",
   "metadata": {},
   "source": [
    "### Predicting from the model"
   ]
  },
  {
   "cell_type": "code",
   "execution_count": 376,
   "metadata": {},
   "outputs": [
    {
     "name": "stdout",
     "output_type": "stream",
     "text": [
      "adjunide\n",
      "adianakar\n",
      "ada\n",
      "adelay\n",
      "adelin\n",
      "adesi\n",
      "adritolian\n",
      "adarie\n",
      "adamarnaaciania\n",
      "adalaika\n",
      "addaine\n",
      "adie\n",
      "adalsianiely\n",
      "adarre\n",
      "adinviumahan\n",
      "adetum\n",
      "adrick\n",
      "adshiah\n",
      "adjael\n",
      "adhora\n"
     ]
    }
   ],
   "source": [
    "g = torch.Generator().manual_seed(2147483647)\n",
    "starting_string = \".ad\"\n",
    "\n",
    "for _ in range(20):\n",
    "    out = []\n",
    "    context = [s_to_i[s] for s in starting_string]\n",
    "    while True:\n",
    "        emb = C[torch.tensor([context])]\n",
    "        h = torch.tanh((emb.view(1, -1) @ W1) + b1)\n",
    "        logits = (h @ W2) + b2\n",
    "        probs = F.softmax(logits, dim=1)\n",
    "\n",
    "        ix = torch.multinomial(\n",
    "            probs, num_samples=1, replacement=True, generator=g\n",
    "        ).item()\n",
    "        context = context[1:] + [ix]\n",
    "        out.append(ix)\n",
    "\n",
    "        if ix == 0:\n",
    "            break\n",
    "\n",
    "    print((starting_string + \"\".join([i_to_s[i] for i in out])).replace(\".\", \"\"))"
   ]
  }
 ],
 "metadata": {
  "kernelspec": {
   "display_name": "Python 3",
   "language": "python",
   "name": "python3"
  },
  "language_info": {
   "codemirror_mode": {
    "name": "ipython",
    "version": 3
   },
   "file_extension": ".py",
   "mimetype": "text/x-python",
   "name": "python",
   "nbconvert_exporter": "python",
   "pygments_lexer": "ipython3",
   "version": "3.10.11"
  }
 },
 "nbformat": 4,
 "nbformat_minor": 2
}

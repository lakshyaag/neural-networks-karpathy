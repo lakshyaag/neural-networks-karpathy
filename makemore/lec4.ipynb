{
 "cells": [
  {
   "cell_type": "code",
   "execution_count": 1,
   "metadata": {},
   "outputs": [],
   "source": [
    "import random\n",
    "import torch\n",
    "import torch.nn.functional as F\n",
    "import matplotlib.pyplot as plt\n",
    "%matplotlib inline"
   ]
  },
  {
   "cell_type": "code",
   "execution_count": 2,
   "metadata": {},
   "outputs": [
    {
     "name": "stdout",
     "output_type": "stream",
     "text": [
      "['emma', 'olivia', 'ava', 'isabella', 'sophia', 'charlotte', 'mia', 'amelia', 'harper', 'evelyn']\n"
     ]
    }
   ],
   "source": [
    "words = open(\"names.txt\").read().splitlines()\n",
    "print(words[:10])"
   ]
  },
  {
   "cell_type": "code",
   "execution_count": 3,
   "metadata": {},
   "outputs": [],
   "source": [
    "# Build vocabulary and mappings\n",
    "chars = sorted(list(set(\"\".join(words))))\n",
    "s_to_i = {s: i + 1 for i, s in enumerate(chars)}\n",
    "s_to_i[\".\"] = 0\n",
    "\n",
    "i_to_s = {i: s for s, i in s_to_i.items()}\n",
    "\n",
    "vocab_size = len(s_to_i)"
   ]
  },
  {
   "cell_type": "code",
   "execution_count": 4,
   "metadata": {},
   "outputs": [],
   "source": [
    "CONTEXT_LENGTH = 3  # Block size: number of previous characters to consider when predicting the next character\n",
    "\n",
    "\n",
    "def build_dataset(words, label):\n",
    "    X, Y = [], []\n",
    "\n",
    "    for word in words:\n",
    "        # print(word)\n",
    "        context = [0] * CONTEXT_LENGTH\n",
    "\n",
    "        for char in word + \".\":\n",
    "            ix = s_to_i[char]\n",
    "            X.append(context)\n",
    "            Y.append(ix)\n",
    "\n",
    "            # print(\"\".join([i_to_s[i] for i in context]), \"--->\", i_to_s[ix])\n",
    "            context = context[1:] + [ix]\n",
    "\n",
    "        # print(\"=\" * 10)\n",
    "\n",
    "    X = torch.tensor(X)\n",
    "    Y = torch.tensor(Y)\n",
    "    print(label, X.shape, Y.shape)\n",
    "    return X, Y"
   ]
  },
  {
   "cell_type": "code",
   "execution_count": 5,
   "metadata": {},
   "outputs": [
    {
     "name": "stdout",
     "output_type": "stream",
     "text": [
      "train torch.Size([182625, 3]) torch.Size([182625])\n",
      "validation torch.Size([22655, 3]) torch.Size([22655])\n",
      "test torch.Size([22866, 3]) torch.Size([22866])\n"
     ]
    }
   ],
   "source": [
    "random.seed(42)\n",
    "\n",
    "# Shuffle the words in the dataset\n",
    "random.shuffle(words)\n",
    "\n",
    "# Split the dataset into train, validation and test sets\n",
    "train_index = int(0.8 * len(words))\n",
    "val_index = int(0.9 * len(words))\n",
    "\n",
    "X_train, Y_train = build_dataset(words[:train_index], \"train\")\n",
    "X_val, Y_val = build_dataset(words[train_index:val_index], \"validation\")\n",
    "X_test, Y_test = build_dataset(words[val_index:], \"test\")"
   ]
  },
  {
   "cell_type": "markdown",
   "metadata": {},
   "source": [
    "## MLP model - deeper look"
   ]
  },
  {
   "cell_type": "markdown",
   "metadata": {},
   "source": [
    "### Base model"
   ]
  },
  {
   "cell_type": "code",
   "execution_count": 6,
   "metadata": {},
   "outputs": [
    {
     "name": "stdout",
     "output_type": "stream",
     "text": [
      "Number of parameters: 11897\n"
     ]
    }
   ],
   "source": [
    "embed_size = 10\n",
    "num_neurons = 200\n",
    "\n",
    "g = torch.Generator().manual_seed(2147483647)\n",
    "\n",
    "C = torch.randn(size=(vocab_size, embed_size), generator=g)\n",
    "W1 = torch.randn(size=(embed_size * CONTEXT_LENGTH, num_neurons), generator=g)\n",
    "\n",
    "b1 = torch.randn(size=(num_neurons,), generator=g)\n",
    "W2 = torch.randn(size=(num_neurons, vocab_size), generator=g)\n",
    "b2 = torch.randn(size=(vocab_size,), generator=g)\n",
    "\n",
    "params = [C, W1, b1, W2, b2]\n",
    "\n",
    "for p in params:\n",
    "    p.requires_grad = True\n",
    "\n",
    "print(f\"Number of parameters: {sum(p.nelement() for p in params)}\")"
   ]
  },
  {
   "cell_type": "code",
   "execution_count": 40,
   "metadata": {},
   "outputs": [
    {
     "name": "stdout",
     "output_type": "stream",
     "text": [
      "0/200000 | Loss: 30.4976\n"
     ]
    },
    {
     "ename": "KeyboardInterrupt",
     "evalue": "",
     "output_type": "error",
     "traceback": [
      "\u001b[1;31m---------------------------------------------------------------------------\u001b[0m",
      "\u001b[1;31mKeyboardInterrupt\u001b[0m                         Traceback (most recent call last)",
      "\u001b[1;32me:\\Projects\\nn-zero-to-hero\\makemore\\lec4.ipynb Cell 9\u001b[0m line \u001b[0;36m2\n\u001b[0;32m     <a href='vscode-notebook-cell:/e%3A/Projects/nn-zero-to-hero/makemore/lec4.ipynb#X11sZmlsZQ%3D%3D?line=26'>27</a>\u001b[0m learning_rate \u001b[39m=\u001b[39m \u001b[39m1e-1\u001b[39m \u001b[39mif\u001b[39;00m epoch \u001b[39m<\u001b[39m \u001b[39m100000\u001b[39m \u001b[39melse\u001b[39;00m \u001b[39m1e-2\u001b[39m\n\u001b[0;32m     <a href='vscode-notebook-cell:/e%3A/Projects/nn-zero-to-hero/makemore/lec4.ipynb#X11sZmlsZQ%3D%3D?line=27'>28</a>\u001b[0m \u001b[39mfor\u001b[39;00m p \u001b[39min\u001b[39;00m params:\n\u001b[1;32m---> <a href='vscode-notebook-cell:/e%3A/Projects/nn-zero-to-hero/makemore/lec4.ipynb#X11sZmlsZQ%3D%3D?line=28'>29</a>\u001b[0m     p\u001b[39m.\u001b[39mdata \u001b[39m+\u001b[39m\u001b[39m=\u001b[39m \u001b[39m-\u001b[39;49mlearning_rate \u001b[39m*\u001b[39;49m p\u001b[39m.\u001b[39;49mgrad\n\u001b[0;32m     <a href='vscode-notebook-cell:/e%3A/Projects/nn-zero-to-hero/makemore/lec4.ipynb#X11sZmlsZQ%3D%3D?line=30'>31</a>\u001b[0m \u001b[39m# track stats\u001b[39;00m\n\u001b[0;32m     <a href='vscode-notebook-cell:/e%3A/Projects/nn-zero-to-hero/makemore/lec4.ipynb#X11sZmlsZQ%3D%3D?line=31'>32</a>\u001b[0m \u001b[39mif\u001b[39;00m epoch \u001b[39m%\u001b[39m \u001b[39m10000\u001b[39m \u001b[39m==\u001b[39m \u001b[39m0\u001b[39m:\n",
      "File \u001b[1;32mc:\\Users\\Lakshya Agarwal\\AppData\\Local\\Programs\\Python\\Python310\\lib\\site-packages\\torch\\utils\\_device.py:62\u001b[0m, in \u001b[0;36mDeviceContext.__torch_function__\u001b[1;34m(self, func, types, args, kwargs)\u001b[0m\n\u001b[0;32m     60\u001b[0m \u001b[39mif\u001b[39;00m func \u001b[39min\u001b[39;00m _device_constructors() \u001b[39mand\u001b[39;00m kwargs\u001b[39m.\u001b[39mget(\u001b[39m'\u001b[39m\u001b[39mdevice\u001b[39m\u001b[39m'\u001b[39m) \u001b[39mis\u001b[39;00m \u001b[39mNone\u001b[39;00m:\n\u001b[0;32m     61\u001b[0m     kwargs[\u001b[39m'\u001b[39m\u001b[39mdevice\u001b[39m\u001b[39m'\u001b[39m] \u001b[39m=\u001b[39m \u001b[39mself\u001b[39m\u001b[39m.\u001b[39mdevice\n\u001b[1;32m---> 62\u001b[0m \u001b[39mreturn\u001b[39;00m func(\u001b[39m*\u001b[39margs, \u001b[39m*\u001b[39m\u001b[39m*\u001b[39mkwargs)\n",
      "\u001b[1;31mKeyboardInterrupt\u001b[0m: "
     ]
    }
   ],
   "source": [
    "epochs = 200000\n",
    "batch_size = 32\n",
    "losses = []\n",
    "\n",
    "for epoch in range(epochs):\n",
    "    # Construct a minibatch\n",
    "    batch_ix = torch.randint(low=0, high=X_train.shape[0], size=(batch_size,))\n",
    "    Xb, Yb = X_train[batch_ix], Y_train[batch_ix]\n",
    "\n",
    "    # Forward pass\n",
    "    emb = C[Xb]\n",
    "    emb_cat = emb.view(emb.shape[0], -1)\n",
    "    hpreact = emb_cat @ W1 + b1  # hidden layer, pre-activation\n",
    "    h = torch.tanh(hpreact)  # hidden layer with `tanh` nonlinearity\n",
    "    logits = (h @ W2) + b2  # output layer\n",
    "\n",
    "    # Computing the loss function using cross-entropy\n",
    "    loss = F.cross_entropy(logits, Yb)\n",
    "\n",
    "    # Backward pass\n",
    "    for p in params:\n",
    "        p.grad = None\n",
    "\n",
    "    loss.backward()\n",
    "\n",
    "    # Update the parameters\n",
    "    learning_rate = 1e-1 if epoch < 100000 else 1e-2\n",
    "    for p in params:\n",
    "        p.data += -learning_rate * p.grad\n",
    "\n",
    "    # track stats\n",
    "    if epoch % 10000 == 0:\n",
    "        print(f\"{epoch}/{epochs} | Loss: {loss.item():.4f}\")\n",
    "        \n",
    "    losses.append(loss.log10().item())"
   ]
  },
  {
   "cell_type": "code",
   "execution_count": 8,
   "metadata": {},
   "outputs": [
    {
     "data": {
      "text/plain": [
       "[<matplotlib.lines.Line2D at 0x1ee4e3bbe20>]"
      ]
     },
     "execution_count": 8,
     "metadata": {},
     "output_type": "execute_result"
    },
    {
     "data": {
      "image/png": "[encoded data removed]",
      "text/plain": [
       "<Figure size 640x480 with 1 Axes>"
      ]
     },
     "metadata": {},
     "output_type": "display_data"
    }
   ],
   "source": [
    "plt.plot(losses)"
   ]
  },
  {
   "cell_type": "code",
   "execution_count": 7,
   "metadata": {},
   "outputs": [
    {
     "name": "stdout",
     "output_type": "stream",
     "text": [
      "train loss: 26.0047\n",
      "validation loss: 26.0105\n"
     ]
    }
   ],
   "source": [
    "# Caculate the loss\n",
    "@torch.no_grad()\n",
    "def calc_loss(split):\n",
    "    x, y = {\n",
    "        \"train\": (X_train, Y_train),\n",
    "        \"validation\": (X_val, Y_val),\n",
    "        \"test\": (X_test, Y_test),\n",
    "    }[split]\n",
    "\n",
    "    emb = C[x]\n",
    "    emb_cat = emb.view(emb.shape[0], -1)\n",
    "    h = torch.tanh(emb_cat @ W1 + b1)\n",
    "    logits = (h @ W2) + b2\n",
    "    loss = F.cross_entropy(logits, y)\n",
    "\n",
    "    print(f\"{split} loss: {loss.item():.4f}\")\n",
    "\n",
    "\n",
    "calc_loss(\"train\")\n",
    "calc_loss(\"validation\")"
   ]
  },
  {
   "cell_type": "code",
   "execution_count": 11,
   "metadata": {},
   "outputs": [
    {
     "name": "stdout",
     "output_type": "stream",
     "text": [
      "mona\n",
      "mayah\n",
      "see\n",
      "melyn\n",
      "alarethan\n",
      "emdraege\n",
      "deredieliigh\n",
      "parelle\n",
      "elieananaraelynn\n",
      "honea\n",
      "noshabergahimies\n",
      "kin\n",
      "renlynn\n",
      "nochomi\n",
      "brence\n",
      "ruylynn\n",
      "els\n",
      "kayshanna\n",
      "daihan\n",
      "salynn\n"
     ]
    }
   ],
   "source": [
    "# Sample from the model\n",
    "g = torch.Generator().manual_seed(2147483647 + 10)\n",
    "starting_string = \"...\"\n",
    "\n",
    "for _ in range(20):\n",
    "    out = []\n",
    "    context = [s_to_i[s] for s in starting_string]\n",
    "    while True:\n",
    "        emb = C[torch.tensor([context])]\n",
    "        h = torch.tanh((emb.view(1, -1) @ W1) + b1)\n",
    "        logits = (h @ W2) + b2\n",
    "        probs = F.softmax(logits, dim=1)\n",
    "\n",
    "        ix = torch.multinomial(\n",
    "            probs, num_samples=1, replacement=True, generator=g\n",
    "        ).item()\n",
    "\n",
    "        context = context[1:] + [ix]\n",
    "        out.append(ix)\n",
    "\n",
    "        if ix == 0:\n",
    "            break\n",
    "\n",
    "    print((starting_string + \"\".join([i_to_s[i] for i in out])).replace(\".\", \"\"))"
   ]
  },
  {
   "cell_type": "markdown",
   "metadata": {},
   "source": [
    "### Initialization parameters\n",
    "\n",
    "By assigning random values at initialization, we introduce extremely high loss in the model that it must overcome before it can learn anything new. To overcome this, for this particular problem, we can initialize the weights using the theory that with no additional knowledge, all characters are equally likely to be predicted. This means that:\n",
    "\n",
    "$$\n",
    "\\begin{align}\n",
    "p_c = \\frac{1}{N_c} = \\frac{1}{27}\n",
    "\\end{align}\n",
    "$$"
   ]
  },
  {
   "cell_type": "code",
   "execution_count": 6,
   "metadata": {},
   "outputs": [
    {
     "name": "stdout",
     "output_type": "stream",
     "text": [
      "Number of parameters: 11897\n"
     ]
    }
   ],
   "source": [
    "embed_size = 10\n",
    "num_neurons = 200\n",
    "\n",
    "g = torch.Generator().manual_seed(2147483647)\n",
    "\n",
    "C = torch.randn(size=(vocab_size, embed_size), generator=g)\n",
    "\n",
    "W1 = torch.randn(size=(embed_size * CONTEXT_LENGTH, num_neurons), generator=g)\n",
    "b1 = torch.randn(size=(num_neurons,), generator=g)\n",
    "\n",
    "# Multiply W2 by a small number to reduce the magnitude of the output logits\n",
    "W2 = torch.randn(size=(num_neurons, vocab_size), generator=g) * 0.01\n",
    "# Multiply b2 by 0 to remove the bias from the output logits initially\n",
    "b2 = torch.randn(size=(vocab_size,), generator=g) * 0\n",
    "\n",
    "params = [C, W1, b1, W2, b2]\n",
    "\n",
    "for p in params:\n",
    "    p.requires_grad = True\n",
    "\n",
    "print(f\"Number of parameters: {sum(p.nelement() for p in params)}\")"
   ]
  },
  {
   "cell_type": "code",
   "execution_count": 7,
   "metadata": {},
   "outputs": [
    {
     "name": "stdout",
     "output_type": "stream",
     "text": [
      "0/100000 | Loss: 3.3159\n",
      "10000/100000 | Loss: 2.4973\n",
      "20000/100000 | Loss: 2.5749\n",
      "30000/100000 | Loss: 2.2919\n",
      "40000/100000 | Loss: 2.1842\n",
      "50000/100000 | Loss: 1.7794\n",
      "60000/100000 | Loss: 2.3380\n",
      "70000/100000 | Loss: 1.7547\n",
      "80000/100000 | Loss: 2.1785\n",
      "90000/100000 | Loss: 2.1536\n"
     ]
    }
   ],
   "source": [
    "epochs = 100000\n",
    "batch_size = 32\n",
    "losses = []\n",
    "\n",
    "for epoch in range(epochs):\n",
    "    # Construct a minibatch\n",
    "    batch_ix = torch.randint(low=0, high=X_train.shape[0], size=(batch_size,))\n",
    "    Xb, Yb = X_train[batch_ix], Y_train[batch_ix]\n",
    "\n",
    "    # Forward pass\n",
    "    emb = C[Xb]\n",
    "    emb_cat = emb.view(emb.shape[0], -1)\n",
    "    hpreact = emb_cat @ W1 + b1  # hidden layer, pre-activation\n",
    "    h = torch.tanh(hpreact)  # hidden layer with `tanh` nonlinearity\n",
    "    logits = (h @ W2) + b2  # output layer\n",
    "\n",
    "    # Computing the loss function using cross-entropy\n",
    "    loss = F.cross_entropy(logits, Yb)\n",
    "\n",
    "    # Backward pass\n",
    "    for p in params:\n",
    "        p.grad = None\n",
    "\n",
    "    loss.backward()\n",
    "\n",
    "    # Update the parameters\n",
    "    learning_rate = 1e-1 if epoch < 50000 else 1e-2\n",
    "    for p in params:\n",
    "        p.data += -learning_rate * p.grad\n",
    "\n",
    "    # track stats\n",
    "    if epoch % 10000 == 0:\n",
    "        print(f\"{epoch}/{epochs} | Loss: {loss.item():.4f}\")\n",
    "\n",
    "    losses.append(loss.log10().item())"
   ]
  },
  {
   "cell_type": "code",
   "execution_count": 8,
   "metadata": {},
   "outputs": [
    {
     "data": {
      "text/plain": [
       "[<matplotlib.lines.Line2D at 0x226bf80bf10>]"
      ]
     },
     "execution_count": 8,
     "metadata": {},
     "output_type": "execute_result"
    },
    {
     "data": {
      "image/png": "[encoded data removed]",
      "text/plain": [
       "<Figure size 640x480 with 1 Axes>"
      ]
     },
     "metadata": {},
     "output_type": "display_data"
    }
   ],
   "source": [
    "plt.plot(losses)"
   ]
  },
  {
   "cell_type": "code",
   "execution_count": 9,
   "metadata": {},
   "outputs": [
    {
     "name": "stdout",
     "output_type": "stream",
     "text": [
      "train loss: 2.1000\n",
      "validation loss: 2.1496\n"
     ]
    }
   ],
   "source": [
    "# Caculate the loss\n",
    "@torch.no_grad()\n",
    "def calc_loss(split):\n",
    "    x, y = {\n",
    "        \"train\": (X_train, Y_train),\n",
    "        \"validation\": (X_val, Y_val),\n",
    "        \"test\": (X_test, Y_test),\n",
    "    }[split]\n",
    "\n",
    "    emb = C[x]\n",
    "    emb_cat = emb.view(emb.shape[0], -1)\n",
    "    h = torch.tanh(emb_cat @ W1 + b1)\n",
    "    logits = (h @ W2) + b2\n",
    "    loss = F.cross_entropy(logits, y)\n",
    "\n",
    "    print(f\"{split} loss: {loss.item():.4f}\")\n",
    "\n",
    "\n",
    "calc_loss(\"train\")\n",
    "calc_loss(\"validation\")"
   ]
  },
  {
   "cell_type": "markdown",
   "metadata": {},
   "source": [
    "### Saturated `tanh`"
   ]
  },
  {
   "cell_type": "code",
   "execution_count": 31,
   "metadata": {},
   "outputs": [
    {
     "name": "stdout",
     "output_type": "stream",
     "text": [
      "Number of parameters: 11897\n"
     ]
    }
   ],
   "source": [
    "embed_size = 10\n",
    "num_neurons = 200\n",
    "\n",
    "g = torch.Generator().manual_seed(2147483647)\n",
    "\n",
    "C = torch.randn(size=(vocab_size, embed_size), generator=g)\n",
    "\n",
    "W1 = torch.randn(size=(embed_size * CONTEXT_LENGTH, num_neurons), generator=g)\n",
    "b1 = torch.randn(size=(num_neurons,), generator=g)\n",
    "\n",
    "# Multiply W2 by a small number to reduce the magnitude of the output logits\n",
    "W2 = torch.randn(size=(num_neurons, vocab_size), generator=g) * 0.01\n",
    "# Multiply b2 by 0 to remove the bias from the output logits initially\n",
    "b2 = torch.randn(size=(vocab_size,), generator=g) * 0\n",
    "\n",
    "params = [C, W1, b1, W2, b2]\n",
    "\n",
    "for p in params:\n",
    "    p.requires_grad = True\n",
    "\n",
    "print(f\"Number of parameters: {sum(p.nelement() for p in params)}\")"
   ]
  },
  {
   "cell_type": "code",
   "execution_count": 32,
   "metadata": {},
   "outputs": [
    {
     "name": "stdout",
     "output_type": "stream",
     "text": [
      "0/100000 | Loss: 3.3358\n"
     ]
    }
   ],
   "source": [
    "epochs = 100000\n",
    "batch_size = 32\n",
    "losses = []\n",
    "\n",
    "for epoch in range(epochs):\n",
    "    # Construct a minibatch\n",
    "    batch_ix = torch.randint(low=0, high=X_train.shape[0], size=(batch_size,))\n",
    "    Xb, Yb = X_train[batch_ix], Y_train[batch_ix]\n",
    "\n",
    "    # Forward pass\n",
    "    emb = C[Xb]\n",
    "    emb_cat = emb.view(emb.shape[0], -1)\n",
    "    hpreact = emb_cat @ W1 + b1  # hidden layer, pre-activation\n",
    "    h = torch.tanh(hpreact)  # hidden layer with `tanh` nonlinearity\n",
    "    logits = (h @ W2) + b2  # output layer\n",
    "\n",
    "    # Computing the loss function using cross-entropy\n",
    "    loss = F.cross_entropy(logits, Yb)\n",
    "\n",
    "    # Backward pass\n",
    "    for p in params:\n",
    "        p.grad = None\n",
    "\n",
    "    loss.backward()\n",
    "\n",
    "    # Update the parameters\n",
    "    learning_rate = 1e-1 if epoch < 50000 else 1e-2\n",
    "    for p in params:\n",
    "        p.data += -learning_rate * p.grad\n",
    "\n",
    "    # track stats\n",
    "    if epoch % 10000 == 0:\n",
    "        print(f\"{epoch}/{epochs} | Loss: {loss.item():.4f}\")\n",
    "\n",
    "    losses.append(loss.log10().item())\n",
    "\n",
    "    break"
   ]
  },
  {
   "cell_type": "markdown",
   "metadata": {},
   "source": [
    "#### Meaning of saturtation\n",
    "After the first epoch, tanh is quite active, as indicated by the high frequency of values close to -1 and 1. \n",
    "\n",
    "This happens because the pre-activated matrix that feeds into the tanh function is quite broad, leading to lots of numbers taking on the extreme values as `tanh` caps them at -1 and 1"
   ]
  },
  {
   "cell_type": "markdown",
   "metadata": {},
   "source": [
    "\n",
    "#### Why is this bad?\n",
    "Because the derivate of `tanh` is given by $1-\\tanh^2(x)$, at the extremes, the derivative is close to 0. This means that the corresponding neurons will learn that the gradient is close to 0 and will not learn anything. This is called **saturating** the neurons."
   ]
  },
  {
   "cell_type": "code",
   "execution_count": 55,
   "metadata": {},
   "outputs": [
    {
     "data": {
      "image/png": "[encoded data removed]",
      "text/plain": [
       "<Figure size 1500x500 with 3 Axes>"
      ]
     },
     "metadata": {},
     "output_type": "display_data"
    }
   ],
   "source": [
    "fig = plt.figure(figsize=(15, 5))\n",
    "\n",
    "ax1_0 = fig.add_subplot(221)\n",
    "ax1_0.hist(h.view(-1).tolist(), bins=50)\n",
    "ax1_0.set_title(\"h\")\n",
    "\n",
    "ax1_1 = fig.add_subplot(222)\n",
    "ax1_1.hist(hpreact.view(-1).tolist(), bins=50)\n",
    "ax1_1.set_title(\"hpreact\")\n",
    "\n",
    "ax2 = fig.add_subplot(212)\n",
    "ax2.imshow(h.abs() > 0.99, cmap=\"gray\", interpolation=\"nearest\")\n",
    "ax2.set_title(\"h.abs() > 0.99\")\n",
    "\n",
    "plt.show()"
   ]
  },
  {
   "cell_type": "markdown",
   "metadata": {},
   "source": [
    "#### How to fix?\n",
    "\n",
    "Similar to how we fixed the initialization problem, we can initialize the weights such that the pre-activated matrix is not too broad\n"
   ]
  },
  {
   "cell_type": "code",
   "execution_count": 59,
   "metadata": {},
   "outputs": [
    {
     "name": "stdout",
     "output_type": "stream",
     "text": [
      "Number of parameters: 11897\n"
     ]
    }
   ],
   "source": [
    "embed_size = 10\n",
    "num_neurons = 200\n",
    "\n",
    "g = torch.Generator().manual_seed(2147483647)\n",
    "\n",
    "C = torch.randn(size=(vocab_size, embed_size), generator=g)\n",
    "\n",
    "# Multiply W1 by a small number to reduce the magnitude of the hidden layer pre-activations\n",
    "W1 = torch.randn(size=(embed_size * CONTEXT_LENGTH, num_neurons), generator=g) * 0.2\n",
    "\n",
    "# Multiply b1 by a small number to reduce the magnitude of the hidden layer pre-activations\n",
    "b1 = torch.randn(size=(num_neurons,), generator=g) * 0.01\n",
    "\n",
    "# Multiply W2 by a small number to reduce the magnitude of the output logits\n",
    "W2 = torch.randn(size=(num_neurons, vocab_size), generator=g) * 0.01\n",
    "\n",
    "# Multiply b2 by 0 to remove the bias from the output logits initially\n",
    "b2 = torch.randn(size=(vocab_size,), generator=g) * 0\n",
    "\n",
    "params = [C, W1, b1, W2, b2]\n",
    "\n",
    "for p in params:\n",
    "    p.requires_grad = True\n",
    "\n",
    "print(f\"Number of parameters: {sum(p.nelement() for p in params)}\")"
   ]
  },
  {
   "cell_type": "code",
   "execution_count": 62,
   "metadata": {},
   "outputs": [
    {
     "name": "stdout",
     "output_type": "stream",
     "text": [
      "0/100000 | Loss: 3.2308\n",
      "10000/100000 | Loss: 2.1702\n",
      "20000/100000 | Loss: 2.3025\n",
      "30000/100000 | Loss: 2.1418\n",
      "40000/100000 | Loss: 2.1069\n",
      "50000/100000 | Loss: 2.3626\n",
      "60000/100000 | Loss: 2.3268\n",
      "70000/100000 | Loss: 2.1364\n",
      "80000/100000 | Loss: 1.8889\n",
      "90000/100000 | Loss: 1.9787\n"
     ]
    }
   ],
   "source": [
    "epochs = 100000\n",
    "batch_size = 32\n",
    "losses = []\n",
    "\n",
    "for epoch in range(epochs):\n",
    "    # Construct a minibatch\n",
    "    batch_ix = torch.randint(low=0, high=X_train.shape[0], size=(batch_size,))\n",
    "    Xb, Yb = X_train[batch_ix], Y_train[batch_ix]\n",
    "\n",
    "    # Forward pass\n",
    "    emb = C[Xb]\n",
    "    emb_cat = emb.view(emb.shape[0], -1)\n",
    "    hpreact = emb_cat @ W1 + b1  # hidden layer, pre-activation\n",
    "    h = torch.tanh(hpreact)  # hidden layer with `tanh` nonlinearity\n",
    "    logits = (h @ W2) + b2  # output layer\n",
    "\n",
    "    # Computing the loss function using cross-entropy\n",
    "    loss = F.cross_entropy(logits, Yb)\n",
    "\n",
    "    # Backward pass\n",
    "    for p in params:\n",
    "        p.grad = None\n",
    "\n",
    "    loss.backward()\n",
    "\n",
    "    # Update the parameters\n",
    "    learning_rate = 1e-1 if epoch < 50000 else 1e-2\n",
    "    for p in params:\n",
    "        p.data += -learning_rate * p.grad\n",
    "\n",
    "    # track stats\n",
    "    if epoch % 10000 == 0:\n",
    "        print(f\"{epoch}/{epochs} | Loss: {loss.item():.4f}\")\n",
    "\n",
    "    losses.append(loss.log10().item())"
   ]
  },
  {
   "cell_type": "code",
   "execution_count": 61,
   "metadata": {},
   "outputs": [
    {
     "data": {
      "image/png": "[encoded data removed]",
      "text/plain": [
       "<Figure size 1500x500 with 3 Axes>"
      ]
     },
     "metadata": {},
     "output_type": "display_data"
    }
   ],
   "source": [
    "# !-- DON'T RUN THIS CELL AFTER TRAINING THE NETWORK --!\n",
    "# Visualizing the activation after the first epoch\n",
    "\n",
    "# fig = plt.figure(figsize=(15, 5))\n",
    "\n",
    "# ax1_0 = fig.add_subplot(221)\n",
    "# ax1_0.hist(h.view(-1).tolist(), bins=50)\n",
    "# ax1_0.set_title(\"h\")\n",
    "\n",
    "# ax1_1 = fig.add_subplot(222)\n",
    "# ax1_1.hist(hpreact.view(-1).tolist(), bins=50)\n",
    "# ax1_1.set_title(\"hpreact\")\n",
    "\n",
    "# ax2 = fig.add_subplot(212)\n",
    "# ax2.imshow(h.abs() > 0.99, cmap=\"gray\", interpolation=\"nearest\")\n",
    "# ax2.set_title(\"h.abs() > 0.99\")\n",
    "\n",
    "# plt.show()"
   ]
  },
  {
   "cell_type": "code",
   "execution_count": 63,
   "metadata": {},
   "outputs": [
    {
     "name": "stdout",
     "output_type": "stream",
     "text": [
      "train loss: 2.0621\n",
      "validation loss: 2.1118\n"
     ]
    }
   ],
   "source": [
    "# Caculate the loss\n",
    "@torch.no_grad()\n",
    "def calc_loss(split):\n",
    "    x, y = {\n",
    "        \"train\": (X_train, Y_train),\n",
    "        \"validation\": (X_val, Y_val),\n",
    "        \"test\": (X_test, Y_test),\n",
    "    }[split]\n",
    "\n",
    "    emb = C[x]\n",
    "    emb_cat = emb.view(emb.shape[0], -1)\n",
    "    h = torch.tanh(emb_cat @ W1 + b1)\n",
    "    logits = (h @ W2) + b2\n",
    "    loss = F.cross_entropy(logits, y)\n",
    "\n",
    "    print(f\"{split} loss: {loss.item():.4f}\")\n",
    "\n",
    "\n",
    "calc_loss(\"train\")\n",
    "calc_loss(\"validation\")"
   ]
  },
  {
   "cell_type": "markdown",
   "metadata": {},
   "source": [
    "### Kaiming init\n",
    "\n",
    "Kaiming init is a method of initializing the weights such that the pre-activated matrix is not too broad. \n",
    "\n",
    "The default way of is to use the square root of the number of inputs to the layer, i.e., $\\sqrt{(N_{I})}$.\n",
    "\n",
    "The Kaiming-normal initialization for `tanh` is given by:\n",
    "$$\n",
    "\\begin{align}\n",
    "\\text{std} &= \\frac{5/3}{\\sqrt{(N_{L})}} \\\\\n",
    "\\end{align}\n",
    "$$\n",
    "\n",
    "where $N_{L}$ is the number of input neurons in the layer. \n",
    "\n",
    "Read more [here.](https://pytorch.org/docs/stable/nn.init.html#torch.nn.init.kaiming_normal_)"
   ]
  },
  {
   "cell_type": "code",
   "execution_count": 80,
   "metadata": {},
   "outputs": [
    {
     "name": "stdout",
     "output_type": "stream",
     "text": [
      "X.mean()=tensor(-0.0069), X.std()=tensor(0.9999)\n",
      "preacts.mean()=tensor(-0.0034), preacts.std()=tensor(1.0136)\n"
     ]
    },
    {
     "data": {
      "image/png": "[encoded data removed]",
      "text/plain": [
       "<Figure size 1500x500 with 2 Axes>"
      ]
     },
     "metadata": {},
     "output_type": "display_data"
    }
   ],
   "source": [
    "X = torch.randn(1000, embed_size)\n",
    "w = torch.randn(embed_size, num_neurons) / (embed_size**0.5)\n",
    "\n",
    "preacts = X @ w\n",
    "\n",
    "print(f\"{X.mean()=}, {X.std()=}\")\n",
    "print(f\"{preacts.mean()=}, {preacts.std()=}\")\n",
    "\n",
    "fig = plt.figure(figsize=(15, 5))\n",
    "plt.subplot(121)\n",
    "plt.hist(X.view(-1).tolist(), bins=50, density=True)\n",
    "plt.title(\"X\")\n",
    "\n",
    "plt.subplot(122)\n",
    "plt.hist(preacts.view(-1).tolist(), bins=50, density=True)\n",
    "plt.title(\"preacts\")\n",
    "pass"
   ]
  },
  {
   "cell_type": "code",
   "execution_count": 81,
   "metadata": {},
   "outputs": [
    {
     "name": "stdout",
     "output_type": "stream",
     "text": [
      "Number of parameters: 11897\n"
     ]
    }
   ],
   "source": [
    "embed_size = 10\n",
    "num_neurons = 200\n",
    "\n",
    "g = torch.Generator().manual_seed(2147483647)\n",
    "\n",
    "C = torch.randn(size=(vocab_size, embed_size), generator=g)\n",
    "\n",
    "# Multiply W1 by the Kaiming-normal to reduce the magnitude of the hidden layer pre-activations\n",
    "W1 = (\n",
    "    torch.randn(size=(embed_size * CONTEXT_LENGTH, num_neurons), generator=g)\n",
    "    * (5 / 3)\n",
    "    * (1 / (embed_size * CONTEXT_LENGTH) ** 0.5)\n",
    ")\n",
    "\n",
    "# Multiply b1 by a small number to reduce the magnitude of the hidden layer pre-activations\n",
    "b1 = torch.randn(size=(num_neurons,), generator=g) * 0.01\n",
    "\n",
    "# Multiply W2 by a small number to reduce the magnitude of the output logits\n",
    "W2 = torch.randn(size=(num_neurons, vocab_size), generator=g) * 0.01\n",
    "\n",
    "# Multiply b2 by 0 to remove the bias from the output logits initially\n",
    "b2 = torch.randn(size=(vocab_size,), generator=g) * 0\n",
    "\n",
    "params = [C, W1, b1, W2, b2]\n",
    "\n",
    "for p in params:\n",
    "    p.requires_grad = True\n",
    "\n",
    "print(f\"Number of parameters: {sum(p.nelement() for p in params)}\")"
   ]
  },
  {
   "cell_type": "code",
   "execution_count": 83,
   "metadata": {},
   "outputs": [
    {
     "name": "stdout",
     "output_type": "stream",
     "text": [
      "0/100000 | Loss: 3.3396\n",
      "10000/100000 | Loss: 2.4347\n",
      "20000/100000 | Loss: 2.1309\n",
      "30000/100000 | Loss: 2.0803\n",
      "40000/100000 | Loss: 2.0711\n",
      "50000/100000 | Loss: 2.3830\n",
      "60000/100000 | Loss: 2.3448\n",
      "70000/100000 | Loss: 2.1083\n",
      "80000/100000 | Loss: 2.1334\n",
      "90000/100000 | Loss: 2.0662\n"
     ]
    }
   ],
   "source": [
    "epochs = 100000\n",
    "batch_size = 32\n",
    "losses = []\n",
    "\n",
    "for epoch in range(epochs):\n",
    "    # Construct a minibatch\n",
    "    batch_ix = torch.randint(low=0, high=X_train.shape[0], size=(batch_size,))\n",
    "    Xb, Yb = X_train[batch_ix], Y_train[batch_ix]\n",
    "\n",
    "    # Forward pass\n",
    "    emb = C[Xb]\n",
    "    emb_cat = emb.view(emb.shape[0], -1)\n",
    "    hpreact = emb_cat @ W1 + b1  # hidden layer, pre-activation\n",
    "    h = torch.tanh(hpreact)  # hidden layer with `tanh` nonlinearity\n",
    "    logits = (h @ W2) + b2  # output layer\n",
    "\n",
    "    # Computing the loss function using cross-entropy\n",
    "    loss = F.cross_entropy(logits, Yb)\n",
    "\n",
    "    # Backward pass\n",
    "    for p in params:\n",
    "        p.grad = None\n",
    "\n",
    "    loss.backward()\n",
    "\n",
    "    # Update the parameters\n",
    "    learning_rate = 1e-1 if epoch < 50000 else 1e-2\n",
    "    for p in params:\n",
    "        p.data += -learning_rate * p.grad\n",
    "\n",
    "    # track stats\n",
    "    if epoch % 10000 == 0:\n",
    "        print(f\"{epoch}/{epochs} | Loss: {loss.item():.4f}\")\n",
    "\n",
    "    losses.append(loss.log10().item())"
   ]
  },
  {
   "cell_type": "code",
   "execution_count": 84,
   "metadata": {},
   "outputs": [
    {
     "name": "stdout",
     "output_type": "stream",
     "text": [
      "train loss: 2.0615\n",
      "validation loss: 2.1140\n"
     ]
    }
   ],
   "source": [
    "# Caculate the loss\n",
    "@torch.no_grad()\n",
    "def calc_loss(split):\n",
    "    x, y = {\n",
    "        \"train\": (X_train, Y_train),\n",
    "        \"validation\": (X_val, Y_val),\n",
    "        \"test\": (X_test, Y_test),\n",
    "    }[split]\n",
    "\n",
    "    emb = C[x]\n",
    "    emb_cat = emb.view(emb.shape[0], -1)\n",
    "    h = torch.tanh(emb_cat @ W1 + b1)\n",
    "    logits = (h @ W2) + b2\n",
    "    loss = F.cross_entropy(logits, y)\n",
    "\n",
    "    print(f\"{split} loss: {loss.item():.4f}\")\n",
    "\n",
    "\n",
    "calc_loss(\"train\")\n",
    "calc_loss(\"validation\")"
   ]
  },
  {
   "cell_type": "markdown",
   "metadata": {},
   "source": [
    "# Batch Normalization\n",
    "\n",
    "The idea behind [batch normalization](https://browse.arxiv.org/pdf/1502.03167.pdf) is to standardize the pre-activation layers to be roughly Gaussian (at initialization, at least) so that the activation function does not get saturated or remains unused. \n",
    "\n",
    "This means standardizing the pre-activation matrix to have a mean of 0 and a standard deviation of 1, and further scaling it by a factor $\\gamma$ and shifting it by a factor $\\beta$.\n",
    "\n",
    "$$\n",
    "\\begin{align}\n",
    "\\hat{x} &= \\frac{x - \\mu}{\\sqrt{\\sigma^2 + \\epsilon}} \\\\\n",
    "y &= \\gamma \\hat{x} + \\beta\n",
    "\\end{align}\n",
    "$$\n",
    "\n",
    "where $\\epsilon$ is a small number to prevent division by 0."
   ]
  },
  {
   "cell_type": "code",
   "execution_count": 9,
   "metadata": {},
   "outputs": [
    {
     "name": "stdout",
     "output_type": "stream",
     "text": [
      "Number of parameters: 12297\n"
     ]
    }
   ],
   "source": [
    "embed_size = 10\n",
    "num_neurons = 200\n",
    "\n",
    "g = torch.Generator().manual_seed(2147483647)\n",
    "\n",
    "C = torch.randn(size=(vocab_size, embed_size), generator=g)\n",
    "\n",
    "# Multiply W1 by the Kaiming-normal to reduce the magnitude of the hidden layer pre-activations\n",
    "W1 = (\n",
    "    torch.randn(size=(embed_size * CONTEXT_LENGTH, num_neurons), generator=g)\n",
    "    * (5 / 3)\n",
    "    * (1 / (embed_size * CONTEXT_LENGTH) ** 0.5)\n",
    ")\n",
    "\n",
    "# Multiply b1 by a small number to reduce the magnitude of the hidden layer pre-activations\n",
    "b1 = torch.randn(size=(num_neurons,), generator=g) * 0.01\n",
    "\n",
    "# Multiply W2 by a small number to reduce the magnitude of the output logits\n",
    "W2 = torch.randn(size=(num_neurons, vocab_size), generator=g) * 0.01\n",
    "\n",
    "# Multiply b2 by 0 to remove the bias from the output logits initially\n",
    "b2 = torch.randn(size=(vocab_size,), generator=g) * 0\n",
    "\n",
    "# Adding the gain and bias terms as parameters\n",
    "bngain = torch.ones(size=(1, num_neurons))\n",
    "bnbias = torch.zeros(size=(1, num_neurons))\n",
    "\n",
    "params = [C, W1, b1, W2, b2, bngain, bnbias]\n",
    "\n",
    "for p in params:\n",
    "    p.requires_grad = True\n",
    "\n",
    "print(f\"Number of parameters: {sum(p.nelement() for p in params)}\")"
   ]
  },
  {
   "cell_type": "code",
   "execution_count": 10,
   "metadata": {},
   "outputs": [
    {
     "name": "stdout",
     "output_type": "stream",
     "text": [
      "0/100000 | Loss: 3.3270\n",
      "10000/100000 | Loss: 2.4685\n",
      "20000/100000 | Loss: 2.1825\n",
      "30000/100000 | Loss: 2.4832\n",
      "40000/100000 | Loss: 2.3130\n",
      "50000/100000 | Loss: 1.9100\n",
      "60000/100000 | Loss: 2.1014\n",
      "70000/100000 | Loss: 2.0403\n",
      "80000/100000 | Loss: 1.8517\n",
      "90000/100000 | Loss: 2.3318\n"
     ]
    }
   ],
   "source": [
    "epochs = 100000\n",
    "batch_size = 32\n",
    "losses = []\n",
    "\n",
    "for epoch in range(epochs):\n",
    "    # Construct a minibatch\n",
    "    batch_ix = torch.randint(low=0, high=X_train.shape[0], size=(batch_size,))\n",
    "    Xb, Yb = X_train[batch_ix], Y_train[batch_ix]\n",
    "\n",
    "    # Forward pass\n",
    "    emb = C[Xb]\n",
    "    emb_cat = emb.view(emb.shape[0], -1)\n",
    "    hpreact = emb_cat @ W1 + b1  # hidden layer, pre-activation\n",
    "\n",
    "    # Applying the batch normalization\n",
    "    # Standardizing the activations, then scaling and shifting them\n",
    "\n",
    "    hpreact = (\n",
    "        bngain\n",
    "        * (\n",
    "            (hpreact - hpreact.mean(dim=0, keepdims=True))\n",
    "            / hpreact.std(dim=0, keepdims=True)\n",
    "        )\n",
    "        + bnbias\n",
    "    )\n",
    "    h = torch.tanh(hpreact)  # hidden layer with `tanh` nonlinearity\n",
    "    logits = (h @ W2) + b2  # output layer\n",
    "\n",
    "    # Computing the loss function using cross-entropy\n",
    "    loss = F.cross_entropy(logits, Yb)\n",
    "\n",
    "    # Backward pass\n",
    "    for p in params:\n",
    "        p.grad = None\n",
    "\n",
    "    loss.backward()\n",
    "\n",
    "    # Update the parameters\n",
    "    learning_rate = 1e-1 if epoch < 50000 else 1e-2\n",
    "    for p in params:\n",
    "        p.data += -learning_rate * p.grad\n",
    "\n",
    "    # track stats\n",
    "    if epoch % 10000 == 0:\n",
    "        print(f\"{epoch}/{epochs} | Loss: {loss.item():.4f}\")\n",
    "\n",
    "    losses.append(loss.log10().item())"
   ]
  },
  {
   "cell_type": "markdown",
   "metadata": {},
   "source": [
    "### Second order effect\n",
    "\n",
    "The batch normalization layer introduces a second order effect. Since the $\\gamma$ and $\\beta$ parameters are learned for an entire batch, the pre-activation layer is jittered around the true value. In other words, the normalization adds a sort of entropy in the model, acting as a regularizer, even though the dependence of one example on the other examples is not desriable (which leads to other forms of normalization such as layer normalization and instance normalization).\n",
    "\n",
    "To correctly calculate the performance of the model, we calibrate the model after training. This means computing the batch normalization mean and standard deviation over the training set, given all the other parameters."
   ]
  },
  {
   "cell_type": "code",
   "execution_count": 14,
   "metadata": {},
   "outputs": [
    {
     "name": "stdout",
     "output_type": "stream",
     "text": [
      "bnmean.shape=torch.Size([1, 200]), bnstd.shape=torch.Size([1, 200])\n"
     ]
    }
   ],
   "source": [
    "# Calibrate the batch normalization parameters\n",
    "with torch.no_grad():\n",
    "    emb = C[X_train]\n",
    "    emb_cat = emb.view(emb.shape[0], -1)\n",
    "    hpreact = emb_cat @ W1 + b1\n",
    "\n",
    "    bnmean = hpreact.mean(0, keepdim=True)\n",
    "    bnstd = hpreact.std(0, keepdim=True)\n",
    "\n",
    "print(f\"{bnmean.shape=}, {bnstd.shape=}\")"
   ]
  },
  {
   "cell_type": "code",
   "execution_count": 15,
   "metadata": {},
   "outputs": [
    {
     "name": "stdout",
     "output_type": "stream",
     "text": [
      "train loss: 2.0947\n",
      "validation loss: 2.1231\n"
     ]
    }
   ],
   "source": [
    "# Calculate the loss\n",
    "@torch.no_grad()\n",
    "def calc_loss(split):\n",
    "    x, y = {\n",
    "        \"train\": (X_train, Y_train),\n",
    "        \"validation\": (X_val, Y_val),\n",
    "        \"test\": (X_test, Y_test),\n",
    "    }[split]\n",
    "\n",
    "    emb = C[x]\n",
    "    emb_cat = emb.view(emb.shape[0], -1)\n",
    "    hpreact = emb_cat @ W1 + b1\n",
    "    hpreact = bngain * ((hpreact - bnmean) / bnstd) + bnbias\n",
    "    h = torch.tanh(hpreact)\n",
    "    logits = (h @ W2) + b2\n",
    "    loss = F.cross_entropy(logits, y)\n",
    "\n",
    "    print(f\"{split} loss: {loss.item():.4f}\")\n",
    "\n",
    "\n",
    "calc_loss(\"train\")\n",
    "calc_loss(\"validation\")"
   ]
  },
  {
   "cell_type": "markdown",
   "metadata": {},
   "source": [
    "#### Running batch normalization\n",
    "\n",
    "Alternatively, we could compute the running mean and standard deviation while training the model. This is called **running batch normalization**.\n",
    "\n",
    "Here, you simply keep track of the mean and standard deviation as:\n",
    "$$\n",
    "\\begin{align*}\n",
    "\\mu_{\\text{running}} &= \\alpha \\mu_{\\text{running}} + (1-\\alpha) \\mu_{\\text{batch}} \\\\\n",
    "\\sigma_{\\text{running}} &= \\alpha \\sigma_{\\text{running}} + (1-\\alpha) \\sigma_{\\text{batch}}\n",
    "\\end{align*}\n",
    "$$\n",
    "\n",
    "where $\\alpha$ (or $1-\\alpha$) is a hyperparameter that controls the rate of decay (or momentum) of the running mean and standard deviation. Typically, $\\alpha$ is set to 0.999.\n",
    "\n",
    "Additionally, the bias parameter before the batch normalization layer is removed since the batch normalization layer already has a bias parameter."
   ]
  },
  {
   "cell_type": "code",
   "execution_count": 21,
   "metadata": {},
   "outputs": [
    {
     "name": "stdout",
     "output_type": "stream",
     "text": [
      "Number of parameters: 12097\n"
     ]
    }
   ],
   "source": [
    "embed_size = 10\n",
    "num_neurons = 200\n",
    "\n",
    "g = torch.Generator().manual_seed(2147483647)\n",
    "\n",
    "C = torch.randn(size=(vocab_size, embed_size), generator=g)\n",
    "\n",
    "# Multiply W1 by the Kaiming-normal to reduce the magnitude of the hidden layer pre-activations\n",
    "W1 = (\n",
    "    torch.randn(size=(embed_size * CONTEXT_LENGTH, num_neurons), generator=g)\n",
    "    * (5 / 3)\n",
    "    * (1 / (embed_size * CONTEXT_LENGTH) ** 0.5)\n",
    ")\n",
    "\n",
    "# Remove b1 since we are using batch normalization\n",
    "# b1 = torch.randn(size=(num_neurons,), generator=g) * 0.01\n",
    "\n",
    "# Multiply W2 by a small number to reduce the magnitude of the output logits\n",
    "W2 = torch.randn(size=(num_neurons, vocab_size), generator=g) * 0.01\n",
    "\n",
    "# Multiply b2 by 0 to remove the bias from the output logits initially\n",
    "b2 = torch.randn(size=(vocab_size,), generator=g) * 0\n",
    "\n",
    "# Adding the gain and bias terms as parameters\n",
    "bngain = torch.ones(size=(1, num_neurons))\n",
    "bnbias = torch.zeros(size=(1, num_neurons))\n",
    "\n",
    "# Add the running mean and standard deviation parameters\n",
    "bnmean_running = torch.zeros(size=(1, num_neurons))\n",
    "bnstd_running = torch.ones(size=(1, num_neurons))\n",
    "\n",
    "params = [C, W1, W2, b2, bngain, bnbias]\n",
    "\n",
    "for p in params:\n",
    "    p.requires_grad = True\n",
    "\n",
    "print(f\"Number of parameters: {sum(p.nelement() for p in params)}\")"
   ]
  },
  {
   "cell_type": "code",
   "execution_count": 22,
   "metadata": {},
   "outputs": [
    {
     "name": "stdout",
     "output_type": "stream",
     "text": [
      "0/100000 | Loss: 3.2968\n",
      "10000/100000 | Loss: 1.9545\n",
      "20000/100000 | Loss: 2.3227\n",
      "30000/100000 | Loss: 2.5465\n",
      "40000/100000 | Loss: 2.2389\n",
      "50000/100000 | Loss: 1.9979\n",
      "60000/100000 | Loss: 1.9713\n",
      "70000/100000 | Loss: 2.2455\n",
      "80000/100000 | Loss: 1.9484\n",
      "90000/100000 | Loss: 2.4278\n"
     ]
    }
   ],
   "source": [
    "epochs = 100000\n",
    "batch_size = 32\n",
    "momentum = 0.999\n",
    "losses = []\n",
    "\n",
    "for epoch in range(epochs):\n",
    "    # Construct a minibatch\n",
    "    batch_ix = torch.randint(low=0, high=X_train.shape[0], size=(batch_size,))\n",
    "    Xb, Yb = X_train[batch_ix], Y_train[batch_ix]\n",
    "\n",
    "    # Forward pass\n",
    "    emb = C[Xb]\n",
    "    emb_cat = emb.view(emb.shape[0], -1)\n",
    "    hpreact = emb_cat @ W1  # hidden layer, pre-activation\n",
    "\n",
    "    # Applying the batch normalization\n",
    "    # Standardizing the activations, then scaling and shifting them\n",
    "\n",
    "    bnmean_i = hpreact.mean(dim=0, keepdims=True)\n",
    "    bnstd_i = hpreact.std(dim=0, keepdims=True)\n",
    "\n",
    "    hpreact = bngain * ((hpreact - bnmean_i) / bnstd_i) + bnbias\n",
    "\n",
    "    h = torch.tanh(hpreact)  # hidden layer with `tanh` nonlinearity\n",
    "    logits = (h @ W2) + b2  # output layer\n",
    "\n",
    "    # Calculate the running mean and standard deviation\n",
    "    with torch.no_grad():\n",
    "        bnmean_running = momentum * bnmean_running + (1 - momentum) * bnmean_i\n",
    "        bnstd_running = momentum * bnstd_running + (1 - momentum) * bnstd_i\n",
    "\n",
    "    # Computing the loss function using cross-entropy\n",
    "    loss = F.cross_entropy(logits, Yb)\n",
    "\n",
    "    # Backward pass\n",
    "    for p in params:\n",
    "        p.grad = None\n",
    "\n",
    "    loss.backward()\n",
    "\n",
    "    # Update the parameters\n",
    "    learning_rate = 1e-1 if epoch < 50000 else 1e-2\n",
    "    for p in params:\n",
    "        p.data += -learning_rate * p.grad\n",
    "\n",
    "    # track stats\n",
    "    if epoch % 10000 == 0:\n",
    "        print(f\"{epoch}/{epochs} | Loss: {loss.item():.4f}\")\n",
    "\n",
    "    losses.append(loss.log10().item())"
   ]
  },
  {
   "cell_type": "code",
   "execution_count": 23,
   "metadata": {},
   "outputs": [
    {
     "name": "stdout",
     "output_type": "stream",
     "text": [
      "train loss: 2.0937\n",
      "validation loss: 2.1252\n"
     ]
    }
   ],
   "source": [
    "# Calculate the loss\n",
    "@torch.no_grad()\n",
    "def calc_loss(split):\n",
    "    x, y = {\n",
    "        \"train\": (X_train, Y_train),\n",
    "        \"validation\": (X_val, Y_val),\n",
    "        \"test\": (X_test, Y_test),\n",
    "    }[split]\n",
    "\n",
    "    emb = C[x]\n",
    "    emb_cat = emb.view(emb.shape[0], -1)\n",
    "    hpreact = emb_cat @ W1\n",
    "    hpreact = bngain * ((hpreact - bnmean_running) / bnstd_running) + bnbias\n",
    "    h = torch.tanh(hpreact)\n",
    "    logits = (h @ W2) + b2\n",
    "    loss = F.cross_entropy(logits, y)\n",
    "\n",
    "    print(f\"{split} loss: {loss.item():.4f}\")\n",
    "\n",
    "\n",
    "calc_loss(\"train\")\n",
    "calc_loss(\"validation\")"
   ]
  }
 ],
 "metadata": {
  "kernelspec": {
   "display_name": "Python 3",
   "language": "python",
   "name": "python3"
  },
  "language_info": {
   "codemirror_mode": {
    "name": "ipython",
    "version": 3
   },
   "file_extension": ".py",
   "mimetype": "text/x-python",
   "name": "python",
   "nbconvert_exporter": "python",
   "pygments_lexer": "ipython3",
   "version": "3.10.11"
  }
 },
 "nbformat": 4,
 "nbformat_minor": 2
}

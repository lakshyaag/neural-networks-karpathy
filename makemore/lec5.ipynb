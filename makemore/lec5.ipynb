{
 "cells": [
  {
   "cell_type": "markdown",
   "metadata": {},
   "source": [
    "# Implementing backpropagation manually"
   ]
  },
  {
   "cell_type": "markdown",
   "metadata": {},
   "source": [
    "## Setup"
   ]
  },
  {
   "cell_type": "code",
   "execution_count": 3,
   "metadata": {},
   "outputs": [],
   "source": [
    "import random\n",
    "import torch\n",
    "import torch.nn.functional as F\n",
    "import matplotlib.pyplot as plt\n",
    "%matplotlib inline"
   ]
  },
  {
   "cell_type": "code",
   "execution_count": 4,
   "metadata": {},
   "outputs": [
    {
     "name": "stdout",
     "output_type": "stream",
     "text": [
      "['emma', 'olivia', 'ava', 'isabella', 'sophia', 'charlotte', 'mia', 'amelia', 'harper', 'evelyn']\n"
     ]
    }
   ],
   "source": [
    "words = open(\"names.txt\").read().splitlines()\n",
    "print(words[:10])"
   ]
  },
  {
   "cell_type": "code",
   "execution_count": 5,
   "metadata": {},
   "outputs": [],
   "source": [
    "# Build vocabulary and mappings\n",
    "chars = sorted(list(set(\"\".join(words))))\n",
    "s_to_i = {s: i + 1 for i, s in enumerate(chars)}\n",
    "s_to_i[\".\"] = 0\n",
    "\n",
    "i_to_s = {i: s for s, i in s_to_i.items()}\n",
    "\n",
    "vocab_size = len(s_to_i)"
   ]
  },
  {
   "cell_type": "code",
   "execution_count": 6,
   "metadata": {},
   "outputs": [],
   "source": [
    "CONTEXT_LENGTH = 3  # Block size: number of previous characters to consider when predicting the next character\n",
    "\n",
    "\n",
    "def build_dataset(words, label):\n",
    "    X, Y = [], []\n",
    "\n",
    "    for word in words:\n",
    "        # print(word)\n",
    "        context = [0] * CONTEXT_LENGTH\n",
    "\n",
    "        for char in word + \".\":\n",
    "            ix = s_to_i[char]\n",
    "            X.append(context)\n",
    "            Y.append(ix)\n",
    "\n",
    "            # print(\"\".join([i_to_s[i] for i in context]), \"--->\", i_to_s[ix])\n",
    "            context = context[1:] + [ix]\n",
    "\n",
    "        # print(\"=\" * 10)\n",
    "\n",
    "    X = torch.tensor(X)\n",
    "    Y = torch.tensor(Y)\n",
    "    print(label, X.shape, Y.shape)\n",
    "    return X, Y"
   ]
  },
  {
   "cell_type": "code",
   "execution_count": 7,
   "metadata": {},
   "outputs": [
    {
     "name": "stdout",
     "output_type": "stream",
     "text": [
      "train torch.Size([182625, 3]) torch.Size([182625])\n",
      "validation torch.Size([22655, 3]) torch.Size([22655])\n",
      "test torch.Size([22866, 3]) torch.Size([22866])\n"
     ]
    }
   ],
   "source": [
    "random.seed(42)\n",
    "\n",
    "# Shuffle the words in the dataset\n",
    "random.shuffle(words)\n",
    "\n",
    "# Split the dataset into train, validation and test sets\n",
    "train_index = int(0.8 * len(words))\n",
    "val_index = int(0.9 * len(words))\n",
    "\n",
    "X_train, Y_train = build_dataset(words[:train_index], \"train\")\n",
    "X_val, Y_val = build_dataset(words[train_index:val_index], \"validation\")\n",
    "X_test, Y_test = build_dataset(words[val_index:], \"test\")"
   ]
  },
  {
   "cell_type": "code",
   "execution_count": 8,
   "metadata": {},
   "outputs": [],
   "source": [
    "# Compare manual gradients to PyTorch gradients\n",
    "def cmp(s, dt, t):\n",
    "    ex = torch.all(dt == t.grad).item()\n",
    "    app = torch.allclose(dt, t.grad)\n",
    "    maxdiff = (dt - t.grad).abs().max().item()\n",
    "    print(f'{s:10s} | exact: {str(ex):5s} | approx: {str(app):5s} | maxdiff: {maxdiff:.5f}')"
   ]
  },
  {
   "cell_type": "code",
   "execution_count": 9,
   "metadata": {},
   "outputs": [
    {
     "name": "stdout",
     "output_type": "stream",
     "text": [
      "Number of parameters: 4137\n"
     ]
    }
   ],
   "source": [
    "n_embed = 10\n",
    "n_hidden = 64\n",
    "\n",
    "g = torch.Generator().manual_seed(2147483647)\n",
    "\n",
    "C = torch.randn(size=(vocab_size, n_embed), generator=g)\n",
    "\n",
    "# Layer 1\n",
    "W1 = torch.randn(size=(n_embed * CONTEXT_LENGTH, n_hidden), generator=g) * (\n",
    "    (5 / 3) / (n_embed * CONTEXT_LENGTH**0.5)\n",
    ")\n",
    "b1 = torch.randn(size=(n_hidden,), generator=g) * 0.1\n",
    "\n",
    "# Layer 2\n",
    "W2 = torch.randn(size=(n_hidden, vocab_size), generator=g) * 0.1\n",
    "b2 = torch.randn(size=(vocab_size,), generator=g) * 0.1\n",
    "\n",
    "# Batch normalization\n",
    "bngain = torch.randn(size=(1, n_hidden), generator=g) * 0.1 + 1.0\n",
    "bnbias = torch.randn(size=(1, n_hidden), generator=g) * 0.1\n",
    "\n",
    "params = [C, W1, b1, W2, b2, bngain, bnbias]\n",
    "\n",
    "for p in params:\n",
    "    p.requires_grad = True\n",
    "\n",
    "print(f\"Number of parameters: {sum(p.nelement() for p in params)}\")"
   ]
  },
  {
   "cell_type": "code",
   "execution_count": 10,
   "metadata": {},
   "outputs": [],
   "source": [
    "# Create a single training batch\n",
    "batch_size = 32\n",
    "\n",
    "batch_ix = torch.randint(low=0, high=X_train.shape[0], size=(batch_size,))\n",
    "Xb, Yb = X_train[batch_ix], Y_train[batch_ix]"
   ]
  },
  {
   "cell_type": "markdown",
   "metadata": {},
   "source": [
    "## Exercise 1: backprop through everything manually"
   ]
  },
  {
   "cell_type": "code",
   "execution_count": 11,
   "metadata": {},
   "outputs": [
    {
     "data": {
      "text/plain": [
       "tensor(3.3285, grad_fn=<NegBackward0>)"
      ]
     },
     "execution_count": 11,
     "metadata": {},
     "output_type": "execute_result"
    }
   ],
   "source": [
    "# 1 step of training (forward pass)\n",
    "emb = C[Xb]\n",
    "emb_cat = emb.view(emb.shape[0], -1)\n",
    "\n",
    "# Linear layer 1\n",
    "hprebn = emb_cat @ W1 + b1\n",
    "\n",
    "# BatchNorm layer\n",
    "bnmean = (1 / batch_size) * hprebn.sum(dim=0, keepdim=True)\n",
    "bndiff = hprebn - bnmean\n",
    "bndiff_sq = bndiff**2\n",
    "bnvar = (1 / (batch_size - 1)) * bndiff_sq.sum(dim=0, keepdim=True)\n",
    "bnstd_inv = (bnvar + 1e-5) ** -0.5\n",
    "\n",
    "bnraw = bndiff * bnstd_inv\n",
    "hpreact = bngain * bnraw + bnbias\n",
    "\n",
    "# Activation layer\n",
    "h = torch.tanh(hpreact)\n",
    "\n",
    "# Linear layer 2\n",
    "logits = h @ W2 + b2\n",
    "\n",
    "# Cross-entropy loss\n",
    "logits_maxes = logits.max(dim=1, keepdim=True).values\n",
    "norm_logits = logits - logits_maxes\n",
    "counts = norm_logits.exp()\n",
    "counts_sum = counts.sum(dim=1, keepdim=True)\n",
    "counts_sum_inv = counts_sum**-1\n",
    "probs = counts * counts_sum_inv\n",
    "\n",
    "logprobs = probs.log()\n",
    "loss = -logprobs[range(batch_size), Yb].mean()\n",
    "\n",
    "# PyTorch backward pass\n",
    "for p in params:\n",
    "    p.grad = None\n",
    "\n",
    "for t in [\n",
    "    logprobs,\n",
    "    probs,\n",
    "    counts_sum_inv,\n",
    "    counts_sum,\n",
    "    counts,\n",
    "    norm_logits,\n",
    "    logits_maxes,\n",
    "    logits,\n",
    "    h,\n",
    "    hpreact,\n",
    "    bnraw,\n",
    "    bnstd_inv,\n",
    "    bnvar,\n",
    "    bndiff_sq,\n",
    "    bndiff,\n",
    "    bnmean,\n",
    "    bngain,\n",
    "    bnbias,\n",
    "    hprebn,\n",
    "    emb_cat,\n",
    "    emb,\n",
    "]:\n",
    "    t.retain_grad()\n",
    "\n",
    "loss.backward()\n",
    "loss"
   ]
  },
  {
   "cell_type": "markdown",
   "metadata": {},
   "source": [
    "#### `logprobs`\n",
    "$$\n",
    "\\begin{align*}\n",
    "\\text{Let } l_{i} &= \\log p(y_i | x_i) \\\\\n",
    "\\mathcal{L} &= -\\frac{1}{N}\\sum_{i=1}^N l_{i} \\\\\n",
    "\\frac{\\partial \\mathcal{L}}{\\partial l_{i}} &= -1\n",
    "\\end{align*}\n",
    "$$\n",
    "\n",
    "For indexes $\\neq i$, the derivative is $0$ as these log probabilities do not contribute to $\\mathcal{L}$\n"
   ]
  },
  {
   "cell_type": "code",
   "execution_count": 12,
   "metadata": {},
   "outputs": [
    {
     "name": "stdout",
     "output_type": "stream",
     "text": [
      "logprobs   | exact: True  | approx: True  | maxdiff: 0.00000\n"
     ]
    }
   ],
   "source": [
    "dlogprobs = torch.zeros_like(logprobs)\n",
    "dlogprobs[range(batch_size), Yb] = -1.0 / batch_size\n",
    "cmp('logprobs', dlogprobs, logprobs)"
   ]
  },
  {
   "cell_type": "markdown",
   "metadata": {},
   "source": [
    "#### `probs`\n",
    "$$\n",
    "\\begin{align*}\n",
    "\\text{Let } p_{i} &= p(y_i | x_i) \\\\\n",
    "l_{i} &= \\log p_{i} \\\\\n",
    "\\mathcal{L} &= -\\frac{1}{N}\\sum_{i=1}^N l_{i} \\\\\n",
    "\n",
    "\\\\\n",
    "\n",
    "\\frac{\\partial \\mathcal{L}}{\\partial p_{i}} &= \\frac{\\partial \\mathcal{L}}{\\partial l_{i}} \\frac{\\partial l_{i}}{\\partial p_{i}} \\\\\n",
    "\\frac{\\partial l_{i}}{\\partial p_{i}} &= \\frac{1}{p_{i}} \\\\\n",
    "\\frac{\\partial \\mathcal{L}}{\\partial p_{i}} &= -\\frac{1}{p_{i}} \\\\\n",
    "\n",
    "\\end{align*}\n",
    "$$"
   ]
  },
  {
   "cell_type": "code",
   "execution_count": 13,
   "metadata": {},
   "outputs": [
    {
     "name": "stdout",
     "output_type": "stream",
     "text": [
      "probs      | exact: True  | approx: True  | maxdiff: 0.00000\n"
     ]
    }
   ],
   "source": [
    "dprobs = dlogprobs * (1 / probs)\n",
    "cmp('probs', dprobs, probs)"
   ]
  },
  {
   "cell_type": "markdown",
   "metadata": {},
   "source": [
    "#### `counts_sum_inv`\n",
    "\n",
    "$$\n",
    "\\begin{align*}\n",
    "\\text{Let } CSI_{i} &= (\\frac{1}{\\sum_{j=1}^{27} c_{j}}) \\\\\n",
    "p_{i} &= {c_{i}} * {CSI_{i}} \\\\\n",
    "l_{i} &= \\log p_{i} \\\\\n",
    "\\mathcal{L} &= -\\frac{1}{N}\\sum_{i=1}^N l_{i} \\\\\n",
    "\n",
    "\\\\\n",
    "\n",
    "\\frac{\\partial \\mathcal{L}}{\\partial CSI_{i}} &= \\frac{\\partial \\mathcal{L}}{\\partial p_{i}} \\frac{\\partial p_{i}}{\\partial CSI_{i}} \\\\\n",
    "\n",
    "\\frac{\\partial p_{i}}{\\partial CSI_{i}} &= c_{i} \\\\\n",
    "\n",
    "\\end{align*}\n",
    "$$\n"
   ]
  },
  {
   "cell_type": "code",
   "execution_count": 14,
   "metadata": {},
   "outputs": [
    {
     "name": "stdout",
     "output_type": "stream",
     "text": [
      "counts_sum_inv | exact: True  | approx: True  | maxdiff: 0.00000\n"
     ]
    }
   ],
   "source": [
    "dcounts_sum_inv = (counts * dprobs).sum(dim=1, keepdim=True)\n",
    "cmp('counts_sum_inv', dcounts_sum_inv, counts_sum_inv)"
   ]
  },
  {
   "cell_type": "markdown",
   "metadata": {},
   "source": [
    "#### `counts_sum`\n",
    "\n",
    "$$\n",
    "\\begin{align*}\n",
    "\\text{Let } CS_{i} &= \\sum_{j=1}^{27} c_{j} \\\\\n",
    "CSI_{i} &= \\frac{1}{CS_{i}} \\\\\n",
    "p_{i} &= {c_{i}} * {CSI_{i}} \\\\\n",
    "l_{i} &= \\log p_{i} \\\\\n",
    "\\mathcal{L} &= -\\frac{1}{N}\\sum_{i=1}^N l_{i} \\\\\n",
    "\n",
    "\\\\\n",
    "\n",
    "\\frac{\\partial \\mathcal{L}}{\\partial CS_{i}} &= \\frac{\\partial \\mathcal{L}}{\\partial CSI_{i}}\\frac{\\partial CSI_{i}}{\\partial CS_{i}} \\\\\n",
    "\\frac{\\partial CSI_{i}}{\\partial CS_{i}} &= -\\frac{1}{CS_{i}^2} \\\\\n",
    "\n",
    "\\end{align*}\n",
    "$$\n"
   ]
  },
  {
   "cell_type": "code",
   "execution_count": 15,
   "metadata": {},
   "outputs": [
    {
     "name": "stdout",
     "output_type": "stream",
     "text": [
      "counts_sum | exact: True  | approx: True  | maxdiff: 0.00000\n"
     ]
    }
   ],
   "source": [
    "dcounts_sum = (-1.0 * (counts_sum ** -2)) * dcounts_sum_inv\n",
    "cmp('counts_sum', dcounts_sum, counts_sum)"
   ]
  },
  {
   "cell_type": "markdown",
   "metadata": {},
   "source": [
    "#### `counts`\n",
    "\n",
    "$$\n",
    "\\begin{align*}\n",
    "\\text{Let } c_{i} &= e^{NL_{i}} \\\\\n",
    "CS_{i} &= \\sum_{j=1}^{27} c_{j} \\\\\n",
    "CSI_{i} &= \\frac{1}{CS_{i}} \\\\\n",
    "p_{i} &= {c_{i}} * {CSI_{i}} \\\\\n",
    "l_{i} &= \\log p_{i} \\\\\n",
    "\\mathcal{L} &= -\\frac{1}{N}\\sum_{i=1}^N l_{i} \\\\\n",
    "\n",
    "\\\\\n",
    "\n",
    "\\frac{\\partial \\mathcal{L}}{\\partial c_{i}} &= \\frac{\\partial \\mathcal{L}}{\\partial p_{i}} \\frac{\\partial p_{i}}{\\partial c_{i}} \\\\\n",
    "\n",
    "\\frac{\\partial p_{i}}{\\partial c_{i}} &= CSI_{i} + \\frac{\\partial CSI_{i}}{\\partial c_{i}} \\\\\n",
    "\\frac{\\partial CSI_{i}}{\\partial c_{i}} &= -\\frac{1}{CS_{i}^2} \\frac{\\partial CS_{i}}{\\partial c_{i}} \\\\\n",
    "\n",
    "\\frac{\\partial CS_{i}}{\\partial c_{i}} &= 1 \\\\\n",
    "\n",
    "\\end{align*}\n",
    "$$\n"
   ]
  },
  {
   "cell_type": "code",
   "execution_count": 16,
   "metadata": {},
   "outputs": [
    {
     "name": "stdout",
     "output_type": "stream",
     "text": [
      "counts     | exact: True  | approx: True  | maxdiff: 0.00000\n"
     ]
    }
   ],
   "source": [
    "dcounts = (counts_sum_inv * dprobs) + torch.ones_like(counts) * dcounts_sum\n",
    "cmp(\"counts\", dcounts, counts)"
   ]
  },
  {
   "cell_type": "markdown",
   "metadata": {},
   "source": [
    "#### `norm_logits`\n",
    "\n",
    "$$\n",
    "\\begin{align*}\n",
    "\\text{Let } NL_{i} &= L_{i} - \\max_{j} L_{j} \\\\\n",
    "c_{i} &= e^{NL_{i}} \\\\\n",
    "CS_{i} &= \\sum_{j=1}^{27} c_{j} \\\\\n",
    "CSI_{i} &= \\frac{1}{CS_{i}} \\\\\n",
    "p_{i} &= {c_{i}} * {CSI_{i}} \\\\\n",
    "l_{i} &= \\log p_{i} \\\\\n",
    "\\mathcal{L} &= -\\frac{1}{N}\\sum_{i=1}^N l_{i} \\\\\n",
    "\n",
    "\n",
    "\\\\\n",
    "\n",
    "\\frac{\\partial \\mathcal{L}}{\\partial NL_{i}} &= \\frac{\\partial \\mathcal{L}}{\\partial c_{i}} \\frac{\\partial c_{i}}{\\partial NL_{i}} \\\\\n",
    "\\frac{\\partial c_{i}}{\\partial NL_{i}} &= e^{NL_{i}} \\\\\n",
    "\n",
    "\\end{align*}\n",
    "$$\n"
   ]
  },
  {
   "cell_type": "code",
   "execution_count": 17,
   "metadata": {},
   "outputs": [
    {
     "name": "stdout",
     "output_type": "stream",
     "text": [
      "norm_logits | exact: True  | approx: True  | maxdiff: 0.00000\n"
     ]
    }
   ],
   "source": [
    "dnorm_logits = counts * dcounts\n",
    "cmp(\"norm_logits\", dnorm_logits, norm_logits)"
   ]
  },
  {
   "cell_type": "markdown",
   "metadata": {},
   "source": [
    "#### `logits_maxes`\n",
    "\n",
    "$$\n",
    "\\begin{align*}\n",
    "\\text{Let } LM_{i} &= \\max_{j} L_{j} \\\\\n",
    "NL_{i} &= L_{i} - LM_{i} \\\\\n",
    "c_{i} &= e^{NL_{i}} \\\\\n",
    "CS_{i} &= \\sum_{j=1}^{27} c_{j} \\\\\n",
    "CSI_{i} &= \\frac{1}{CS_{i}} \\\\\n",
    "p_{i} &= {c_{i}} * {CSI_{i}} \\\\\n",
    "l_{i} &= \\log p_{i} \\\\\n",
    "\\mathcal{L} &= -\\frac{1}{N}\\sum_{i=1}^N l_{i} \\\\\n",
    "\n",
    "\n",
    "\\\\\n",
    "\n",
    "\\frac{\\partial \\mathcal{L}}{\\partial LM_{i}} &= \\frac{\\partial \\mathcal{L}}{\\partial NL_{i}} \\frac{\\partial NL_{i}}{\\partial LM_{i}} \\\\\n",
    "\n",
    "\\frac{\\partial NL_{i}}{\\partial LM_{i}} &= -1 \\\\\n",
    "\n",
    "\\end{align*}\n",
    "$$\n"
   ]
  },
  {
   "cell_type": "code",
   "execution_count": 18,
   "metadata": {},
   "outputs": [
    {
     "name": "stdout",
     "output_type": "stream",
     "text": [
      "logits_maxes | exact: True  | approx: True  | maxdiff: 0.00000\n"
     ]
    }
   ],
   "source": [
    "dlogits_maxes = (-1.0 * torch.ones_like(logits_maxes)) * dnorm_logits.sum(dim=1, keepdim=True)\n",
    "cmp(\"logits_maxes\", dlogits_maxes, logits_maxes)"
   ]
  },
  {
   "cell_type": "markdown",
   "metadata": {},
   "source": [
    "#### `logits`\n",
    "\n",
    "$$\n",
    "\\begin{align*}\n",
    "\\text{Let } L_{i} &= h \\times W_{i} + b_{i} \\\\\n",
    "LM_{i} &= \\max_{j} L_{j} \\\\\n",
    "NL_{i} &= L_{i} - LM_{i} \\\\\n",
    "c_{i} &= e^{NL_{i}} \\\\\n",
    "CS_{i} &= \\sum_{j=1}^{27} c_{j} \\\\\n",
    "CSI_{i} &= \\frac{1}{CS_{i}} \\\\\n",
    "p_{i} &= {c_{i}} * {CSI_{i}} \\\\\n",
    "l_{i} &= \\log p_{i} \\\\\n",
    "\\mathcal{L} &= -\\frac{1}{N}\\sum_{i=1}^N l_{i} \\\\\n",
    "\n",
    "\n",
    "\\\\\n",
    "\n",
    "\\frac{\\partial \\mathcal{L}}{\\partial L_{i}} &= \\frac{\\partial \\mathcal{L}}{\\partial NL_{i}} \\frac{\\partial NL_{i}}{\\partial L_{i}} \\\\\n",
    "\\frac{\\partial NL_{i}}{\\partial L_{i}} &= 1  + \\frac{\\partial NL_{i}}{\\partial LM_{i}} \\frac{\\partial LM_{i}}{\\partial L_{i}} \\\\\n",
    "\\frac{\\partial LM_{i}}{\\partial L_{i}} &= \\begin{cases}\n",
    "1 & \\text{if } L_{i} = LM_{i} \\\\\n",
    "0 & \\text{otherwise}\n",
    "\\end{cases} \\\\\n",
    "\n",
    "\n",
    "\\end{align*}\n",
    "$$\n"
   ]
  },
  {
   "cell_type": "code",
   "execution_count": 19,
   "metadata": {},
   "outputs": [
    {
     "name": "stdout",
     "output_type": "stream",
     "text": [
      "logits     | exact: True  | approx: True  | maxdiff: 0.00000\n"
     ]
    }
   ],
   "source": [
    "dlogits = dnorm_logits.clone() + F.one_hot(logits.max(dim=1).indices, logits.shape[1]) * dlogits_maxes\n",
    "cmp(\"logits\", dlogits, logits)"
   ]
  },
  {
   "cell_type": "markdown",
   "metadata": {},
   "source": [
    "#### `h`\n",
    "\n",
    "$$\n",
    "\\begin{align*}\n",
    "\\text{Let } h &= \\tanh(hpreact) \\\\\n",
    "L &= h \\times W_2 + b_2 \\\\\n",
    "LM_{i} &= \\max_{j} L_{j} \\\\\n",
    "NL_{i} &= L_{i} - LM_{i} \\\\\n",
    "c_{i} &= e^{NL_{i}} \\\\\n",
    "CS_{i} &= \\sum_{j=1}^{27} c_{j} \\\\\n",
    "CSI_{i} &= \\frac{1}{CS_{i}} \\\\\n",
    "p_{i} &= {c_{i}} * {CSI_{i}} \\\\\n",
    "l_{i} &= \\log p_{i} \\\\\n",
    "\\mathcal{L} &= -\\frac{1}{N}\\sum_{i=1}^N l_{i} \\\\\n",
    "\\end{align*}\n",
    "$$\n",
    "\n",
    "\n",
    "$$\n",
    "\\begin{align*}\n",
    "\\frac{\\partial \\mathcal{L}}{\\partial h} &= \\frac{\\partial \\mathcal{L}}{\\partial L} \\frac{\\partial L}{\\partial h} \\\\\n",
    "\\\\\n",
    "h \\times W_2 &=\n",
    "\\begin{bmatrix}\n",
    "a_{11} & a_{12} & a_{13} & a_{14} \\\\\n",
    "a_{21} & a_{22} & a_{23} & a_{24} \\\\\n",
    "a_{31} & a_{32} & a_{33} & a_{34} \\\\\n",
    "\\end{bmatrix} \\times \\begin{bmatrix}\n",
    "b_{11} & b_{12} \\\\\n",
    "b_{21} & b_{22} \\\\\n",
    "b_{31} & b_{32} \\\\\n",
    "b_{41} & b_{42} \\\\\n",
    "\\end{bmatrix} \\\\\n",
    "\\begin{bmatrix}\n",
    "d_{11} & d_{12} \\\\\n",
    "d_{21} & d_{22} \\\\\n",
    "d_{31} & d_{32} \\\\\n",
    "\\end{bmatrix}\n",
    "&= \\begin{bmatrix}\n",
    "a_{11}b_{11} + a_{12}b_{21} + a_{13}b_{31} + a_{14}b_{41} & a_{11}b_{12} + a_{12}b_{22} + a_{13}b_{32} + a_{14}b_{42} \\\\\n",
    "a_{21}b_{11} + a_{22}b_{21} + a_{23}b_{31} + a_{24}b_{41} & a_{21}b_{12} + a_{22}b_{22} + a_{23}b_{32} + a_{24}b_{42} \\\\\n",
    "a_{31}b_{11} + a_{32}b_{21} + a_{33}b_{31} + a_{34}b_{41} & a_{31}b_{12} + a_{32}b_{22} + a_{33}b_{32} + a_{34}b_{42} \\\\\n",
    "\\end{bmatrix}\n",
    "\n",
    "\\\\\n",
    "\\\\\n",
    "\n",
    "\\frac{\\partial \\mathcal{L}}{\\partial {a_{11}}} &= \\frac{\\partial \\mathcal{L}}{\\partial {d_{11}}} \\frac{\\partial {d_{11}}}{\\partial {a_{11}}} + \\frac{\\partial \\mathcal{L}}{\\partial {d_{12}}} \\frac{\\partial {d_{12}}}{\\partial {a_{11}}}\n",
    "\\\\\n",
    "\\vdots\n",
    "\\\\\n",
    "\\frac{\\partial \\mathcal{L}}{\\partial {a_{34}}} &= \\frac{\\partial \\mathcal{L}}{\\partial {d_{31}}} \\frac{\\partial {d_{31}}}{\\partial {a_{34}}} + \\frac{\\partial \\mathcal{L}}{\\partial {d_{32}}} \\frac{\\partial {d_{32}}}{\\partial {a_{34}}}\n",
    "\n",
    "\\\\\n",
    "\\frac{\\partial \\mathcal{L}}{\\partial h} &= \\begin{bmatrix}\n",
    "\\frac{\\partial \\mathcal{L}}{\\partial {d_{11}}} & \\frac{\\partial \\mathcal{L}}{\\partial {d_{12}}} \\\\\n",
    "\\frac{\\partial \\mathcal{L}}{\\partial {d_{21}}} & \\frac{\\partial \\mathcal{L}}{\\partial {d_{22}}} \\\\\n",
    "\\frac{\\partial \\mathcal{L}}{\\partial {d_{31}}} & \\frac{\\partial \\mathcal{L}}{\\partial {d_{32}}} \\\\\n",
    "\\end{bmatrix} \\times \\begin{bmatrix}\n",
    "b_{11} & b_{21} & b_{31} & b_{41} \\\\\n",
    "b_{12} & b_{22} & b_{32} & b_{42} \\\\\n",
    "\\end{bmatrix} \\\\ &= \\frac{\\partial \\mathcal{L}}{\\partial d} \\times W_2^T \\\\\n",
    "\\frac{\\partial \\mathcal{L}}{\\partial h} &= \\frac{\\partial \\mathcal{L}}{\\partial L} \\times W_2^T\n",
    "\\end{align*}\n",
    "$$\n",
    "\n"
   ]
  },
  {
   "cell_type": "code",
   "execution_count": 20,
   "metadata": {},
   "outputs": [
    {
     "name": "stdout",
     "output_type": "stream",
     "text": [
      "h          | exact: True  | approx: True  | maxdiff: 0.00000\n"
     ]
    }
   ],
   "source": [
    "dh = dlogits @ W2.T\n",
    "cmp(\"h\", dh, h)"
   ]
  },
  {
   "cell_type": "markdown",
   "metadata": {},
   "source": [
    "#### `W_2`\n",
    "\n",
    "$$\n",
    "\\begin{align*}\n",
    "h &= \\tanh(hpreact) \\\\\n",
    "L &= h \\times W_2 + b_2 \\\\\n",
    "LM_{i} &= \\max_{j} L_{j} \\\\\n",
    "NL_{i} &= L_{i} - LM_{i} \\\\\n",
    "c_{i} &= e^{NL_{i}} \\\\\n",
    "CS_{i} &= \\sum_{j=1}^{27} c_{j} \\\\\n",
    "CSI_{i} &= \\frac{1}{CS_{i}} \\\\\n",
    "p_{i} &= {c_{i}} * {CSI_{i}} \\\\\n",
    "l_{i} &= \\log p_{i} \\\\\n",
    "\\mathcal{L} &= -\\frac{1}{N}\\sum_{i=1}^N l_{i} \\\\\n",
    "\n",
    "\\frac{\\partial \\mathcal{L}}{\\partial W_2} &= h^T \\times \\frac{\\partial \\mathcal{L}}{\\partial L} \\\\\n",
    "\n",
    "\\end{align*}\n",
    "$$\n",
    "\n"
   ]
  },
  {
   "cell_type": "code",
   "execution_count": 21,
   "metadata": {},
   "outputs": [
    {
     "name": "stdout",
     "output_type": "stream",
     "text": [
      "W2         | exact: True  | approx: True  | maxdiff: 0.00000\n"
     ]
    }
   ],
   "source": [
    "dW_2 = h.T @ dlogits\n",
    "cmp(\"W2\", dW_2, W2)"
   ]
  },
  {
   "cell_type": "markdown",
   "metadata": {},
   "source": [
    "#### `b_2`\n",
    "\n",
    "$$\n",
    "\\begin{align*}\n",
    "\\frac{\\partial \\mathcal{L}}{\\partial b_2} &= \\frac{\\partial \\mathcal{L}}{\\partial L} \\frac{\\partial L}{\\partial b_2} \\\\\n",
    "\\frac{\\partial L}{\\partial b_2} &= 1 \\\\\n",
    "\\end{align*}\n",
    "$$\n",
    "\n"
   ]
  },
  {
   "cell_type": "code",
   "execution_count": 22,
   "metadata": {},
   "outputs": [
    {
     "name": "stdout",
     "output_type": "stream",
     "text": [
      "b2         | exact: True  | approx: True  | maxdiff: 0.00000\n"
     ]
    }
   ],
   "source": [
    "db_2 = dlogits.sum(dim=0)\n",
    "cmp(\"b2\", db_2, b2)"
   ]
  },
  {
   "cell_type": "markdown",
   "metadata": {},
   "source": [
    "#### `hpreact`\n",
    "\n",
    "$$\n",
    "\\begin{align*}\n",
    "hpreact &= \\gamma * BN_{raw} + \\beta \\\\\n",
    "h &= \\tanh(hpreact) \\\\\n",
    "\\vdots \\\\\n",
    "\\mathcal{L} &= -\\frac{1}{N}\\sum_{i=1}^N l_{i} \\\\\n",
    "\n",
    "\\\\\n",
    "\n",
    "\\frac{\\partial \\mathcal{L}}{\\partial hpreact} &= \\frac{\\partial \\mathcal{L}}{\\partial h} \\frac{\\partial h}{\\partial hpreact} \\\\\n",
    "\\frac{\\partial h}{\\partial hpreact} &= 1 - \\tanh^2(hpreact) \\\\\n",
    "\n",
    "\\end{align*}\n",
    "\n",
    "\n",
    "$$\n"
   ]
  },
  {
   "cell_type": "code",
   "execution_count": 23,
   "metadata": {},
   "outputs": [
    {
     "name": "stdout",
     "output_type": "stream",
     "text": [
      "hpreact    | exact: True  | approx: True  | maxdiff: 0.00000\n"
     ]
    }
   ],
   "source": [
    "dhpreact = (1 - h**2) * dh\n",
    "cmp(\"hpreact\", dhpreact, hpreact)"
   ]
  },
  {
   "cell_type": "markdown",
   "metadata": {},
   "source": [
    "#### `bngain`\n",
    "\n",
    "$$\n",
    "\\begin{align*}\n",
    "\n",
    "hpreact &= \\gamma * BN_{raw} + \\beta \\\\\n",
    "h &= \\tanh(hpreact) \\\\\n",
    "\\vdots \\\\\n",
    "\\mathcal{L} &= -\\frac{1}{N}\\sum_{i=1}^N l_{i} \\\\\n",
    "\n",
    "\\\\\n",
    "\n",
    "\\frac{\\partial \\mathcal{L}}{\\partial \\gamma} &= \\frac{\\partial \\mathcal{L}}{\\partial hpreact} \\frac{\\partial hpreact}{\\partial \\gamma} \\\\\n",
    "\\frac{\\partial hpreact}{\\partial \\gamma} &= BN_{raw} \\\\\n",
    "\n",
    "\\end{align*}\n",
    "\n",
    "\n",
    "$$\n"
   ]
  },
  {
   "cell_type": "code",
   "execution_count": 24,
   "metadata": {},
   "outputs": [
    {
     "name": "stdout",
     "output_type": "stream",
     "text": [
      "bngain     | exact: True  | approx: True  | maxdiff: 0.00000\n"
     ]
    }
   ],
   "source": [
    "dbngain = (dhpreact * bnraw).sum(dim=0)\n",
    "cmp(\"bngain\", dbngain, bngain)"
   ]
  },
  {
   "cell_type": "markdown",
   "metadata": {},
   "source": [
    "#### `bnbias`\n",
    "\n",
    "$$\n",
    "\\begin{align*}\n",
    "\n",
    "hpreact &= \\gamma * BN_{raw} + \\beta \\\\\n",
    "h &= \\tanh(hpreact) \\\\\n",
    "\\vdots \\\\\n",
    "\\mathcal{L} &= -\\frac{1}{N}\\sum_{i=1}^N l_{i} \\\\\n",
    "\n",
    "\\\\\n",
    "\n",
    "\\frac{\\partial \\mathcal{L}}{\\partial \\beta} &= \\frac{\\partial \\mathcal{L}}{\\partial hpreact} \\frac{\\partial hpreact}{\\partial \\beta} \\\\\n",
    "\\frac{\\partial hpreact}{\\partial \\beta} &= 1 \\\\\n",
    "\n",
    "\\end{align*}\n",
    "\n",
    "\n",
    "$$\n"
   ]
  },
  {
   "cell_type": "code",
   "execution_count": 25,
   "metadata": {},
   "outputs": [
    {
     "name": "stdout",
     "output_type": "stream",
     "text": [
      "bnbias     | exact: True  | approx: True  | maxdiff: 0.00000\n"
     ]
    }
   ],
   "source": [
    "dbnbias = dhpreact.sum(dim=0)\n",
    "cmp(\"bnbias\", dbnbias, bnbias)"
   ]
  },
  {
   "cell_type": "markdown",
   "metadata": {},
   "source": [
    "#### `bnraw`\n",
    "\n",
    "$$\n",
    "\\begin{align*}\n",
    "\n",
    "hpreact &= \\gamma * BN_{raw} + \\beta \\\\\n",
    "h &= \\tanh(hpreact) \\\\\n",
    "\\vdots \\\\\n",
    "\\mathcal{L} &= -\\frac{1}{N}\\sum_{i=1}^N l_{i} \\\\\n",
    "\n",
    "\\\\\n",
    "\n",
    "\\frac{\\partial \\mathcal{L}}{\\partial BN_{raw}} &= \\frac{\\partial \\mathcal{L}}{\\partial hpreact} \\frac{\\partial hpreact}{\\partial BN_{raw}} \\\\\n",
    "\\frac{\\partial hpreact}{\\partial BN_{raw}} &= \\gamma \\\\\n",
    "\n",
    "\\end{align*}\n",
    "\n",
    "\n",
    "$$\n"
   ]
  },
  {
   "cell_type": "code",
   "execution_count": 26,
   "metadata": {},
   "outputs": [
    {
     "name": "stdout",
     "output_type": "stream",
     "text": [
      "bnraw      | exact: True  | approx: True  | maxdiff: 0.00000\n"
     ]
    }
   ],
   "source": [
    "dbnraw = bngain * dhpreact\n",
    "cmp(\"bnraw\", dbnraw, bnraw)"
   ]
  },
  {
   "cell_type": "markdown",
   "metadata": {},
   "source": [
    "#### `bnstd_inv`\n",
    "\n",
    "$$\n",
    "\\begin{align*}\n",
    "\\sigma_{BN} &= \\frac{1}{\\sqrt{\\sigma^2_{BN} + \\epsilon}} \\\\\n",
    "BN_{raw} &= {\\delta_{BN}} * {\\sigma_{BN}} \\\\\n",
    "hpreact &= \\gamma * BN_{raw} + \\beta \\\\\n",
    "h &= \\tanh(hpreact) \\\\\n",
    "\\vdots \\\\\n",
    "\\mathcal{L} &= -\\frac{1}{N}\\sum_{i=1}^N l_{i} \\\\\n",
    "\n",
    "\\\\\n",
    "\n",
    "\\frac{\\partial \\mathcal{L}}{\\partial \\sigma_{BN}} &= \\frac{\\partial \\mathcal{L}}{\\partial BN_{raw}} \\frac{\\partial BN_{raw}}{\\partial \\sigma_{BN}} \\\\\n",
    "\\frac{\\partial BN_{raw}}{\\partial \\sigma_{BN}} &= \\delta_{BN} \\\\\n",
    "\n",
    "\\end{align*}\n",
    "\n",
    "\n",
    "$$\n"
   ]
  },
  {
   "cell_type": "code",
   "execution_count": 27,
   "metadata": {},
   "outputs": [
    {
     "name": "stdout",
     "output_type": "stream",
     "text": [
      "bnstd_inv  | exact: True  | approx: True  | maxdiff: 0.00000\n"
     ]
    }
   ],
   "source": [
    "dbnstd_inv = (dbnraw * bndiff).sum(dim=0)\n",
    "cmp(\"bnstd_inv\", dbnstd_inv, bnstd_inv)"
   ]
  },
  {
   "cell_type": "markdown",
   "metadata": {},
   "source": [
    "#### `bnvar`\n",
    "\n",
    "$$\n",
    "\\begin{align*}\n",
    "\\sigma^2_{BN} &= \\frac{1}{N-1} \\delta^2_{BN} \\\\\n",
    "\\sigma_{BN} &= \\frac{1}{\\sqrt{\\sigma^2_{BN} + \\epsilon}} \\\\\n",
    "BN_{raw} &= {\\delta_{BN}} * {\\sigma_{BN}} \\\\\n",
    "hpreact &= \\gamma * BN_{raw} + \\beta \\\\\n",
    "h &= \\tanh(hpreact) \\\\\n",
    "\\vdots \\\\\n",
    "\\mathcal{L} &= -\\frac{1}{N}\\sum_{i=1}^N l_{i} \\\\\n",
    "\n",
    "\\\\\n",
    "\n",
    "\\frac{\\partial \\mathcal{L}}{\\partial \\sigma^2_{BN}} &= \\frac{\\partial \\mathcal{L}}{\\partial \\sigma_{BN}} \\frac{\\partial \\sigma_{BN}}{\\partial \\sigma^2_{BN}} \\\\\n",
    "\\frac{\\partial \\sigma_{BN}}{\\partial \\sigma^2_{BN}} &= -0.5 \\frac{1}{(\\sigma^2_{BN} + \\epsilon)^{1.5}} \\\\\n",
    "\n",
    "\\end{align*}\n",
    "\n",
    "\n",
    "$$\n"
   ]
  },
  {
   "cell_type": "code",
   "execution_count": 28,
   "metadata": {},
   "outputs": [
    {
     "name": "stdout",
     "output_type": "stream",
     "text": [
      "bnvar      | exact: True  | approx: True  | maxdiff: 0.00000\n"
     ]
    }
   ],
   "source": [
    "dbnvar = (-0.5 * (bnvar + 1e-5)**-1.5) * dbnstd_inv\n",
    "cmp(\"bnvar\", dbnvar, bnvar)"
   ]
  },
  {
   "cell_type": "markdown",
   "metadata": {},
   "source": [
    "#### `bndiff_sq`\n",
    "\n",
    "$$\n",
    "\\begin{align*}\n",
    "\\sigma^2_{BN} &= \\frac{1}{N-1} \\sum \\delta^2_{BN} \\\\\n",
    "\\sigma_{BN} &= \\frac{1}{\\sqrt{\\sigma^2_{BN} + \\epsilon}} \\\\\n",
    "BN_{raw} &= {\\delta_{BN}} * {\\sigma_{BN}} \\\\\n",
    "hpreact &= \\gamma * BN_{raw} + \\beta \\\\\n",
    "h &= \\tanh(hpreact) \\\\\n",
    "\\vdots \\\\\n",
    "\\mathcal{L} &= -\\frac{1}{N}\\sum_{i=1}^N l_{i} \\\\\n",
    "\n",
    "\\\\\n",
    "\n",
    "\\frac{\\partial \\mathcal{L}}{\\partial \\delta^2_{BN}} &= \\frac{\\partial \\mathcal{L}}{\\partial \\sigma^2_{BN}} \\frac{\\partial \\sigma^2_{BN}}{\\partial \\delta^2_{BN}} \\\\\n",
    "\n",
    "\\frac{\\partial \\sigma^2_{BN}}{\\partial \\delta^2_{BN}} &= \\frac{1}{N-1} \\\\\n",
    "\n",
    "\n",
    "\\end{align*}\n",
    "\n",
    "\n",
    "$$\n"
   ]
  },
  {
   "cell_type": "code",
   "execution_count": 29,
   "metadata": {},
   "outputs": [
    {
     "name": "stdout",
     "output_type": "stream",
     "text": [
      "bndiff_sq  | exact: True  | approx: True  | maxdiff: 0.00000\n"
     ]
    }
   ],
   "source": [
    "dbndiff_sq = (1 / (batch_size - 1)) * torch.ones_like(bndiff_sq) * dbnvar\n",
    "cmp(\"bndiff_sq\", dbndiff_sq, bndiff_sq)"
   ]
  },
  {
   "cell_type": "markdown",
   "metadata": {},
   "source": [
    "#### `bndiff`\n",
    "\n",
    "$$\n",
    "\\begin{align*}\n",
    "\\delta_{BN} &= hprebn - \\mu_{BN} \\\\\n",
    "\\sigma^2_{BN} &= \\frac{1}{N-1} \\sum \\delta^2_{BN} \\\\\n",
    "\\sigma_{BN} &= \\frac{1}{\\sqrt{\\sigma^2_{BN} + \\epsilon}} \\\\\n",
    "BN_{raw} &= {\\delta_{BN}} * {\\sigma_{BN}} \\\\\n",
    "hpreact &= \\gamma * BN_{raw} + \\beta \\\\\n",
    "h &= \\tanh(hpreact) \\\\\n",
    "\\vdots \\\\\n",
    "\\mathcal{L} &= -\\frac{1}{N}\\sum_{i=1}^N l_{i} \\\\\n",
    "\n",
    "\\\\\n",
    "\n",
    "\\frac{\\partial \\mathcal{L}}{\\partial \\delta_{BN}} &= \\frac{\\partial \\mathcal{L}}{\\partial BN_{raw}} \\frac{\\partial BN_{raw}}{\\partial \\delta_{BN}} + \\frac{\\partial \\mathcal{L}}{\\partial \\delta^2_{BN}} \\frac{\\partial \\delta^2_{BN}}{\\partial \\delta_{BN}} \\\\\n",
    "\n",
    "\n",
    "\\frac{\\partial BN_{raw}}{\\partial \\delta_{BN}} &= \\sigma_{BN} \\\\\n",
    "\n",
    "\\frac{\\partial \\delta^2_{BN}}{\\partial \\delta_{BN}} &= 2 \\delta_{BN} \\\\\n",
    "\n",
    "\\end{align*}\n",
    "\n",
    "\n",
    "$$\n"
   ]
  },
  {
   "cell_type": "code",
   "execution_count": 30,
   "metadata": {},
   "outputs": [
    {
     "name": "stdout",
     "output_type": "stream",
     "text": [
      "bndiff     | exact: True  | approx: True  | maxdiff: 0.00000\n"
     ]
    }
   ],
   "source": [
    "dbndiff = ((2 * bndiff) * dbndiff_sq) + (dbnraw * bnstd_inv)\n",
    "cmp(\"bndiff\", dbndiff, bndiff)"
   ]
  },
  {
   "cell_type": "markdown",
   "metadata": {},
   "source": [
    "#### `bnmean`\n",
    "\n",
    "$$\n",
    "\\begin{align*}\n",
    "\\mu_{BN} &= \\frac{1}{N} \\sum hprebn \\\\\n",
    "\\delta_{BN} &= hprebn - \\mu_{BN} \\\\\n",
    "\\sigma^2_{BN} &= \\frac{1}{N-1} \\sum \\delta^2_{BN} \\\\\n",
    "\\sigma_{BN} &= \\frac{1}{\\sqrt{\\sigma^2_{BN} + \\epsilon}} \\\\\n",
    "BN_{raw} &= {\\delta_{BN}} * {\\sigma_{BN}} \\\\\n",
    "hpreact &= \\gamma * BN_{raw} + \\beta \\\\\n",
    "h &= \\tanh(hpreact) \\\\\n",
    "\\vdots \\\\\n",
    "\\mathcal{L} &= -\\frac{1}{N}\\sum_{i=1}^N l_{i} \\\\\n",
    "\n",
    "\\\\\n",
    "\n",
    "\\frac{\\partial \\mathcal{L}}{\\partial \\mu_{BN}} &= \\frac{\\partial \\mathcal{L}}{\\partial \\delta_{BN}} \\frac{\\partial \\delta_{BN}}{\\partial \\mu_{BN}} \\\\\n",
    "\n",
    "\\frac{\\partial \\delta_{BN}}{\\partial \\mu_{BN}} &= -1 \\\\\n",
    "\n",
    "\\end{align*}\n",
    "\n",
    "\n",
    "$$\n"
   ]
  },
  {
   "cell_type": "code",
   "execution_count": 31,
   "metadata": {},
   "outputs": [
    {
     "name": "stdout",
     "output_type": "stream",
     "text": [
      "bnmean     | exact: True  | approx: True  | maxdiff: 0.00000\n"
     ]
    }
   ],
   "source": [
    "dbnmean = (-torch.ones_like(bndiff) * dbndiff).sum(0)\n",
    "cmp(\"bnmean\", dbnmean, bnmean)"
   ]
  },
  {
   "cell_type": "markdown",
   "metadata": {},
   "source": [
    "#### `hprebn`\n",
    "\n",
    "$$\n",
    "\\begin{align*}\n",
    "hprebn &= emb_c \\times W_1 + b_1 \\\\\n",
    "\\mu_{BN} &= \\frac{1}{N} \\sum hprebn \\\\\n",
    "\\delta_{BN} &= hprebn - \\mu_{BN} \\\\\n",
    "\\sigma^2_{BN} &= \\frac{1}{N-1} \\sum \\delta^2_{BN} \\\\\n",
    "\\sigma_{BN} &= \\frac{1}{\\sqrt{\\sigma^2_{BN} + \\epsilon}} \\\\\n",
    "BN_{raw} &= {\\delta_{BN}} * {\\sigma_{BN}} \\\\\n",
    "hpreact &= \\gamma * BN_{raw} + \\beta \\\\\n",
    "h &= \\tanh(hpreact) \\\\\n",
    "\\vdots \\\\\n",
    "\\mathcal{L} &= -\\frac{1}{N}\\sum_{i=1}^N l_{i} \\\\\n",
    "\n",
    "\\\\\n",
    "\n",
    "\\frac{\\partial \\mathcal{L}}{\\partial hprebn} &= \\frac{\\partial \\mathcal{L}}{\\partial \\delta_{BN}} \\frac{\\partial \\delta_{BN}}{\\partial hprebn} + \\frac{\\partial \\mathcal{L}}{\\partial \\mu_{BN}} \\frac{\\partial \\mu_{BN}}{\\partial hprebn} \\\\\n",
    "\\end{align*}\n",
    "\n",
    "\n",
    "$$\n"
   ]
  },
  {
   "cell_type": "code",
   "execution_count": 32,
   "metadata": {},
   "outputs": [
    {
     "name": "stdout",
     "output_type": "stream",
     "text": [
      "hprebn     | exact: True  | approx: True  | maxdiff: 0.00000\n"
     ]
    }
   ],
   "source": [
    "dhprebn = dbndiff.clone() + ((1.0 / batch_size) * torch.ones_like(hprebn) * dbnmean)\n",
    "cmp(\"hprebn\", dhprebn, hprebn)"
   ]
  },
  {
   "cell_type": "markdown",
   "metadata": {},
   "source": [
    "#### `W_1`\n",
    "\n",
    "$$\n",
    "\\begin{align*}\n",
    "hprebn &= emb_c \\times W_1 + b_1 \\\\\n",
    "\\mu_{BN} &= \\frac{1}{N} \\sum hprebn \\\\\n",
    "\\delta_{BN} &= hprebn - \\mu_{BN} \\\\\n",
    "\\sigma^2_{BN} &= \\frac{1}{N-1} \\sum \\delta^2_{BN} \\\\\n",
    "\\sigma_{BN} &= \\frac{1}{\\sqrt{\\sigma^2_{BN} + \\epsilon}} \\\\\n",
    "BN_{raw} &= {\\delta_{BN}} * {\\sigma_{BN}} \\\\\n",
    "hpreact &= \\gamma * BN_{raw} + \\beta \\\\\n",
    "h &= \\tanh(hpreact) \\\\\n",
    "\\vdots \\\\\n",
    "\\mathcal{L} &= -\\frac{1}{N}\\sum_{i=1}^N l_{i} \\\\\n",
    "\n",
    "\\\\\n",
    "\n",
    "\\\\\n",
    "\n",
    "\\frac{\\partial \\mathcal{L}}{\\partial W_1} &= \\frac{\\partial \\mathcal{L}}{\\partial hprebn} \\frac{\\partial hprebn}{\\partial W_1} \\\\\n",
    "\\frac{\\partial hprebn}{\\partial W_1} &= emb_c^T \\\\\n",
    "\n",
    "\\end{align*}\n",
    "\n",
    "\n",
    "$$\n"
   ]
  },
  {
   "cell_type": "code",
   "execution_count": 33,
   "metadata": {},
   "outputs": [
    {
     "name": "stdout",
     "output_type": "stream",
     "text": [
      "W1         | exact: True  | approx: True  | maxdiff: 0.00000\n"
     ]
    }
   ],
   "source": [
    "dW_1 = emb_cat.T @ dhprebn\n",
    "cmp(\"W1\", dW_1, W1)"
   ]
  },
  {
   "cell_type": "markdown",
   "metadata": {},
   "source": [
    "#### `b_1`\n",
    "\n",
    "$$\n",
    "\\begin{align*}\n",
    "hprebn &= emb_c \\times W_1 + b_1 \\\\\n",
    "\\mu_{BN} &= \\frac{1}{N} \\sum hprebn \\\\\n",
    "\\delta_{BN} &= hprebn - \\mu_{BN} \\\\\n",
    "\\sigma^2_{BN} &= \\frac{1}{N-1} \\sum \\delta^2_{BN} \\\\\n",
    "\\sigma_{BN} &= \\frac{1}{\\sqrt{\\sigma^2_{BN} + \\epsilon}} \\\\\n",
    "BN_{raw} &= {\\delta_{BN}} * {\\sigma_{BN}} \\\\\n",
    "hpreact &= \\gamma * BN_{raw} + \\beta \\\\\n",
    "h &= \\tanh(hpreact) \\\\\n",
    "\\vdots \\\\\n",
    "\\mathcal{L} &= -\\frac{1}{N}\\sum_{i=1}^N l_{i} \\\\\n",
    "\n",
    "\\\\\n",
    "\n",
    "\\\\\n",
    "\n",
    "\\frac{\\partial \\mathcal{L}}{\\partial b_1} &= \\frac{\\partial \\mathcal{L}}{\\partial hprebn} \\frac{\\partial hprebn}{\\partial b_1} \\\\\n",
    "\\frac{\\partial hprebn}{\\partial b_1} &= 1 \\\\\n",
    "\n",
    "\\end{align*}\n",
    "\n",
    "\n",
    "$$\n"
   ]
  },
  {
   "cell_type": "code",
   "execution_count": 34,
   "metadata": {},
   "outputs": [
    {
     "name": "stdout",
     "output_type": "stream",
     "text": [
      "b1         | exact: True  | approx: True  | maxdiff: 0.00000\n"
     ]
    }
   ],
   "source": [
    "db_1 = dhprebn.sum(dim=0)\n",
    "cmp(\"b1\", db_1, b1)"
   ]
  },
  {
   "cell_type": "markdown",
   "metadata": {},
   "source": [
    "#### `emb_cat`\n",
    "\n",
    "$$\n",
    "\\begin{align*}\n",
    "hprebn &= emb_c \\times W_1 + b_1 \\\\\n",
    "\\mu_{BN} &= \\frac{1}{N} \\sum hprebn \\\\\n",
    "\\delta_{BN} &= hprebn - \\mu_{BN} \\\\\n",
    "\\sigma^2_{BN} &= \\frac{1}{N-1} \\sum \\delta^2_{BN} \\\\\n",
    "\\sigma_{BN} &= \\frac{1}{\\sqrt{\\sigma^2_{BN} + \\epsilon}} \\\\\n",
    "BN_{raw} &= {\\delta_{BN}} * {\\sigma_{BN}} \\\\\n",
    "hpreact &= \\gamma * BN_{raw} + \\beta \\\\\n",
    "h &= \\tanh(hpreact) \\\\\n",
    "\\vdots \\\\\n",
    "\\mathcal{L} &= -\\frac{1}{N}\\sum_{i=1}^N l_{i} \\\\\n",
    "\n",
    "\\\\\n",
    "\n",
    "\\\\\n",
    "\n",
    "\\frac{\\partial \\mathcal{L}}{\\partial emb_c} &= \\frac{\\partial \\mathcal{L}}{\\partial hprebn} \\frac{\\partial hprebn}{\\partial emb_c} \\\\\n",
    "\\frac{\\partial hprebn}{\\partial emb_c} &= W_1^T \\\\\n",
    "\n",
    "\\end{align*}\n",
    "\n",
    "\n",
    "$$\n"
   ]
  },
  {
   "cell_type": "code",
   "execution_count": 35,
   "metadata": {},
   "outputs": [
    {
     "name": "stdout",
     "output_type": "stream",
     "text": [
      "emb_cat    | exact: True  | approx: True  | maxdiff: 0.00000\n"
     ]
    }
   ],
   "source": [
    "demb_cat = dhprebn @ W1.T\n",
    "cmp(\"emb_cat\", demb_cat, emb_cat)"
   ]
  },
  {
   "cell_type": "markdown",
   "metadata": {},
   "source": [
    "#### `emb`\n",
    "\n",
    "Change the view of `emb_cat` to the shape of `emb`"
   ]
  },
  {
   "cell_type": "code",
   "execution_count": 36,
   "metadata": {},
   "outputs": [
    {
     "name": "stdout",
     "output_type": "stream",
     "text": [
      "emb        | exact: True  | approx: True  | maxdiff: 0.00000\n"
     ]
    }
   ],
   "source": [
    "demb = demb_cat.view(emb.shape)\n",
    "cmp(\"emb\", demb, emb)"
   ]
  },
  {
   "cell_type": "markdown",
   "metadata": {},
   "source": [
    "#### `C`\n",
    "\n",
    "Index the `demb` Tensor using the original indexes"
   ]
  },
  {
   "cell_type": "code",
   "execution_count": 37,
   "metadata": {},
   "outputs": [
    {
     "name": "stdout",
     "output_type": "stream",
     "text": [
      "C          | exact: True  | approx: True  | maxdiff: 0.00000\n"
     ]
    }
   ],
   "source": [
    "dC = torch.zeros_like(C)\n",
    "for k in range(Xb.shape[0]):\n",
    "    for j in range(Xb.shape[1]):\n",
    "        ix = Xb[k, j]\n",
    "        dC[ix] += demb[k, j]\n",
    "\n",
    "cmp(\"C\", dC, C)"
   ]
  },
  {
   "cell_type": "code",
   "execution_count": 38,
   "metadata": {},
   "outputs": [
    {
     "name": "stdout",
     "output_type": "stream",
     "text": [
      "C          | exact: True  | approx: True  | maxdiff: 0.00000\n",
      "W1         | exact: True  | approx: True  | maxdiff: 0.00000\n",
      "b1         | exact: True  | approx: True  | maxdiff: 0.00000\n",
      "W2         | exact: True  | approx: True  | maxdiff: 0.00000\n",
      "b2         | exact: True  | approx: True  | maxdiff: 0.00000\n",
      "bngain     | exact: True  | approx: True  | maxdiff: 0.00000\n",
      "bnbias     | exact: True  | approx: True  | maxdiff: 0.00000\n",
      "hprebn     | exact: True  | approx: True  | maxdiff: 0.00000\n",
      "emb_cat    | exact: True  | approx: True  | maxdiff: 0.00000\n",
      "emb        | exact: True  | approx: True  | maxdiff: 0.00000\n",
      "hpreact    | exact: True  | approx: True  | maxdiff: 0.00000\n",
      "bnraw      | exact: True  | approx: True  | maxdiff: 0.00000\n",
      "bnstd_inv  | exact: True  | approx: True  | maxdiff: 0.00000\n",
      "bnvar      | exact: True  | approx: True  | maxdiff: 0.00000\n",
      "bndiff_sq  | exact: True  | approx: True  | maxdiff: 0.00000\n",
      "bndiff     | exact: True  | approx: True  | maxdiff: 0.00000\n",
      "bnmean     | exact: True  | approx: True  | maxdiff: 0.00000\n",
      "h          | exact: True  | approx: True  | maxdiff: 0.00000\n",
      "logits     | exact: True  | approx: True  | maxdiff: 0.00000\n",
      "norm_logits | exact: True  | approx: True  | maxdiff: 0.00000\n",
      "counts     | exact: True  | approx: True  | maxdiff: 0.00000\n",
      "counts_sum | exact: True  | approx: True  | maxdiff: 0.00000\n",
      "counts_sum_inv | exact: True  | approx: True  | maxdiff: 0.00000\n",
      "probs      | exact: True  | approx: True  | maxdiff: 0.00000\n",
      "logprobs   | exact: True  | approx: True  | maxdiff: 0.00000\n"
     ]
    }
   ],
   "source": [
    "# Check all backpropagations\n",
    "cmp(\"C\", dC, C)\n",
    "cmp(\"W1\", dW_1, W1)\n",
    "cmp(\"b1\", db_1, b1)\n",
    "cmp(\"W2\", dW_2, W2)\n",
    "cmp(\"b2\", db_2, b2)\n",
    "cmp(\"bngain\", dbngain, bngain)\n",
    "cmp(\"bnbias\", dbnbias, bnbias)\n",
    "cmp(\"hprebn\", dhprebn, hprebn)\n",
    "cmp(\"emb_cat\", demb_cat, emb_cat)\n",
    "cmp(\"emb\", demb, emb)\n",
    "cmp(\"hpreact\", dhpreact, hpreact)\n",
    "cmp(\"bnraw\", dbnraw, bnraw)\n",
    "cmp(\"bnstd_inv\", dbnstd_inv, bnstd_inv)\n",
    "cmp(\"bnvar\", dbnvar, bnvar)\n",
    "cmp(\"bndiff_sq\", dbndiff_sq, bndiff_sq)\n",
    "cmp(\"bndiff\", dbndiff, bndiff)\n",
    "cmp(\"bnmean\", dbnmean, bnmean)\n",
    "cmp(\"h\", dh, h)\n",
    "cmp(\"logits\", dlogits, logits)\n",
    "cmp(\"norm_logits\", dnorm_logits, norm_logits)\n",
    "cmp(\"counts\", dcounts, counts)\n",
    "cmp(\"counts_sum\", dcounts_sum, counts_sum)\n",
    "cmp(\"counts_sum_inv\", dcounts_sum_inv, counts_sum_inv)\n",
    "cmp(\"probs\", dprobs, probs)\n",
    "cmp(\"logprobs\", dlogprobs, logprobs)"
   ]
  },
  {
   "cell_type": "markdown",
   "metadata": {},
   "source": [
    "## Exercise 2: backprop through cross-entropy"
   ]
  },
  {
   "cell_type": "code",
   "execution_count": 55,
   "metadata": {},
   "outputs": [
    {
     "data": {
      "text/plain": [
       "tensor(3.3285, grad_fn=<NllLossBackward0>)"
      ]
     },
     "execution_count": 55,
     "metadata": {},
     "output_type": "execute_result"
    }
   ],
   "source": [
    "# 1 step of training (forward pass)\n",
    "emb = C[Xb]\n",
    "emb_cat = emb.view(emb.shape[0], -1)\n",
    "\n",
    "# Linear layer 1\n",
    "hprebn = emb_cat @ W1 + b1\n",
    "\n",
    "# BatchNorm layer\n",
    "bnmean = (1 / batch_size) * hprebn.sum(dim=0, keepdim=True)\n",
    "bndiff = hprebn - bnmean\n",
    "bndiff_sq = bndiff**2\n",
    "bnvar = (1 / (batch_size - 1)) * bndiff_sq.sum(dim=0, keepdim=True)\n",
    "bnstd_inv = (bnvar + 1e-5) ** -0.5\n",
    "\n",
    "bnraw = bndiff * bnstd_inv\n",
    "hpreact = bngain * bnraw + bnbias\n",
    "\n",
    "# Activation layer\n",
    "h = torch.tanh(hpreact)\n",
    "\n",
    "# Linear layer 2\n",
    "logits = h @ W2 + b2\n",
    "\n",
    "# Cross-entropy loss\n",
    "loss = F.cross_entropy(logits, Yb)\n",
    "\n",
    "# PyTorch backward pass\n",
    "for p in params:\n",
    "    p.grad = None\n",
    "\n",
    "for t in [\n",
    "    loss,\n",
    "    logits,\n",
    "    h,\n",
    "    hpreact,\n",
    "    bnraw,\n",
    "    bnstd_inv,\n",
    "    bnvar,\n",
    "    bndiff_sq,\n",
    "    bndiff,\n",
    "    bnmean,\n",
    "    bngain,\n",
    "    bnbias,\n",
    "    hprebn,\n",
    "    emb_cat,\n",
    "    emb,\n",
    "]:\n",
    "    t.retain_grad()\n",
    "\n",
    "loss.backward()\n",
    "loss"
   ]
  },
  {
   "cell_type": "markdown",
   "metadata": {},
   "source": [
    "#### `loss`\n",
    "\n",
    "$$\n",
    "\\begin{align*}\n",
    "L &=  -\\log p_y  \\\\\n",
    "p_{i} &= \\frac{e^{l_i}}{\\sum_{j=1}^{27} e^{l_j}} \\\\\n",
    "\n",
    "\\frac{\\partial L}{\\partial l_i} &= \\frac{\\partial L}{\\partial p_i} \\frac{\\partial p_i}{\\partial l_i} \\\\\n",
    "\\frac{\\partial L}{\\partial p_i} &= -\\frac{\\sum_{j=1}^{27} e^{l_j}}{e^{l_y}} \\\\\n",
    "\n",
    "\\\\\n",
    "\n",
    "\\frac{\\partial p_i}{\\partial l_i}_{i \\neq y} &= \\frac{0}{\\sum_{j=1}^{27} e^{l_j}} - \\frac{e^{l_y} e^{l_i}}{(\\sum_{j=1}^{27} e^{l_j})^2} \\\\\n",
    "&= \\frac{e^{l_y}}{\\sum_{j=1}^{27} e^{l_j}} \\frac{e^{l_i}}{\\sum_{j=1}^{27} e^{l_j}} \\\\\n",
    "&= - \\frac{1}{\\frac{\\partial L}{\\partial p_i}} p_i \\\\\n",
    "\n",
    "\\frac{\\partial p_i}{\\partial l_i}_{i = y} &= \\frac{e^{l_y}}{\\sum_{j=1}^{27} e^{l_j}} - \\frac{e^{l_y} e^{l_i}}{(\\sum_{j=1}^{27} e^{l_j})^2} \\\\ \n",
    "&= \\frac{e^{l_y}}{\\sum_{j=1}^{27} e^{l_j}} (1 - \\frac{e^{l_i}}{\\sum_{j=1}^{27} e^{l_j}}) \\\\\n",
    "&= - \\frac{1}{\\frac{\\partial L}{\\partial p_i}} (p_i - 1) \\\\\n",
    "\n",
    "\\\\\n",
    "\n",
    "\\frac{\\partial L}{\\partial l_i} &= \\begin{cases}\n",
    "p_i - 1 & \\text{if } i = y \\\\\n",
    "p_i & \\text{if } i \\neq y\n",
    "\\end{cases} \\\\\n",
    "\n",
    "\\end{align*}\n",
    "$$\n",
    "\n",
    "where $l_{i}$ is the logit for class $i$.\n"
   ]
  },
  {
   "cell_type": "code",
   "execution_count": 50,
   "metadata": {},
   "outputs": [
    {
     "name": "stdout",
     "output_type": "stream",
     "text": [
      "logits     | exact: False | approx: True  | maxdiff: 0.00000\n"
     ]
    }
   ],
   "source": [
    "dlogits = F.softmax(logits, dim=1)\n",
    "dlogits[range(batch_size), Yb] -= 1.0\n",
    "dlogits /= batch_size\n",
    "\n",
    "cmp(\"logits\", dlogits, logits)"
   ]
  },
  {
   "cell_type": "code",
   "execution_count": 51,
   "metadata": {},
   "outputs": [
    {
     "data": {
      "text/plain": [
       "<matplotlib.image.AxesImage at 0x1b4dc2df460>"
      ]
     },
     "execution_count": 51,
     "metadata": {},
     "output_type": "execute_result"
    },
    {
     "data": {
      "image/png": "[encoded data removed]",
      "text/plain": [
       "<Figure size 640x480 with 1 Axes>"
      ]
     },
     "metadata": {},
     "output_type": "display_data"
    }
   ],
   "source": [
    "plt.imshow(dlogits.detach().numpy(), cmap=\"gray\")"
   ]
  },
  {
   "cell_type": "markdown",
   "metadata": {},
   "source": [
    "## Exercise 3: backprop through batchnorm"
   ]
  },
  {
   "cell_type": "code",
   "execution_count": 52,
   "metadata": {},
   "outputs": [
    {
     "data": {
      "text/plain": [
       "tensor(3.3303, grad_fn=<NllLossBackward0>)"
      ]
     },
     "execution_count": 52,
     "metadata": {},
     "output_type": "execute_result"
    }
   ],
   "source": [
    "# 1 step of training (forward pass)\n",
    "emb = C[Xb]\n",
    "emb_cat = emb.view(emb.shape[0], -1)\n",
    "\n",
    "# Linear layer 1\n",
    "hprebn = emb_cat @ W1 + b1\n",
    "\n",
    "# BatchNorm layer\n",
    "hpreact = (\n",
    "    bngain\n",
    "    * (hprebn - hprebn.mean(0, keepdim=True))\n",
    "    / torch.sqrt(hprebn.var(0, keepdim=True, unbiased=False) + 1e-5)\n",
    "    + bnbias\n",
    ")\n",
    "\n",
    "# Activation layer\n",
    "h = torch.tanh(hpreact)\n",
    "\n",
    "# Linear layer 2\n",
    "logits = h @ W2 + b2\n",
    "\n",
    "# Cross-entropy loss\n",
    "loss = F.cross_entropy(logits, Yb)\n",
    "\n",
    "# PyTorch backward pass\n",
    "for p in params:\n",
    "    p.grad = None\n",
    "\n",
    "for t in [\n",
    "    loss,\n",
    "    logits,\n",
    "    h,\n",
    "    hpreact,\n",
    "    hprebn,\n",
    "    emb_cat,\n",
    "    emb,\n",
    "]:\n",
    "    t.retain_grad()\n",
    "\n",
    "loss.backward()\n",
    "loss"
   ]
  },
  {
   "cell_type": "markdown",
   "metadata": {},
   "source": [
    "### `hprebn`\n",
    "\n",
    "$$\n",
    "\\begin{align*}\n",
    "\\text{Let } y_i &= hpreact \\\\\n",
    "y_i &= \\gamma \\hat{x_i} + \\beta \\\\\n",
    "\\hat{x_i} &= \\frac{x_i - \\mu_{B}}{\\sqrt{\\sigma^2_{B} + \\epsilon}} \\\\\n",
    "\\mu_{B} &= \\frac{1}{N} \\sum x_i \\\\\n",
    "\\sigma^2_{B} &= \\frac{1}{N-1} \\sum (x_i - \\mu_{B})^2 \\\\\n",
    "\n",
    "\\\\\n",
    "\n",
    "\\frac{\\partial L}{\\partial x_i} &= \\frac{\\partial L}{\\partial \\hat{x_i}} \\frac{\\partial \\hat{x_i}}{\\partial x_i} + \\frac{\\partial L}{\\partial \\mu_{B}} \\frac{\\partial \\mu_{B}}{\\partial x_i} + \\frac{\\partial L}{\\partial \\sigma^2_{B}} \\frac{\\partial \\sigma^2_{B}}{\\partial x_i} \\\\\n",
    "\n",
    "\n",
    "\n",
    "\n",
    "\\end{align*}\n",
    "$$"
   ]
  },
  {
   "cell_type": "code",
   "execution_count": 56,
   "metadata": {},
   "outputs": [
    {
     "name": "stdout",
     "output_type": "stream",
     "text": [
      "hprebn     | exact: False | approx: True  | maxdiff: 0.00000\n"
     ]
    }
   ],
   "source": [
    "dhprebn = (\n",
    "    bngain\n",
    "    * bnstd_inv\n",
    "    / batch_size\n",
    "    * (\n",
    "        batch_size * dhpreact\n",
    "        - dhpreact.sum(0)\n",
    "        - batch_size / (batch_size - 1) * bnraw * (dhpreact * bnraw).sum(0)\n",
    "    )\n",
    ")\n",
    "\n",
    "cmp(\"hprebn\", dhprebn, hprebn)"
   ]
  }
 ],
 "metadata": {
  "kernelspec": {
   "display_name": "Python 3",
   "language": "python",
   "name": "python3"
  },
  "language_info": {
   "codemirror_mode": {
    "name": "ipython",
    "version": 3
   },
   "file_extension": ".py",
   "mimetype": "text/x-python",
   "name": "python",
   "nbconvert_exporter": "python",
   "pygments_lexer": "ipython3",
   "version": "3.10.11"
  }
 },
 "nbformat": 4,
 "nbformat_minor": 2
}
